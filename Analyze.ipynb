{
 "cells": [
  {
   "cell_type": "markdown",
   "metadata": {},
   "source": [
    "# BFuzzer"
   ]
  },
  {
   "cell_type": "markdown",
   "metadata": {},
   "source": [
    "Some magick before we get started.\n",
    "* %top and %%top are magicks for line and cell respectively that can be used to disable the evaluation when the notebook is exported.\n",
    "* %%var is used to extract contents of the cell to `$VARS` variable."
   ]
  },
  {
   "cell_type": "code",
   "execution_count": 1,
   "metadata": {},
   "outputs": [],
   "source": [
    "TOP = True"
   ]
  },
  {
   "cell_type": "code",
   "execution_count": 2,
   "metadata": {},
   "outputs": [],
   "source": [
    "from IPython.core.magic import  (Magics, magics_class, cell_magic, line_magic, line_cell_magic)\n",
    "class B(dict):\n",
    "    def __getattr__(self, name):\n",
    "        return self.__getitem__(name)\n",
    "@magics_class\n",
    "class MyMagics(Magics):\n",
    "    def __init__(self, shell=None,  **kwargs):\n",
    "        super().__init__(shell=shell, **kwargs)\n",
    "        self._vars = B()\n",
    "        shell.user_ns['VARS'] = self._vars\n",
    "\n",
    "    @cell_magic\n",
    "    def var(self, line, cell):\n",
    "        self._vars[line.strip()] = cell.strip()\n",
    " \n",
    "    @line_cell_magic\n",
    "    def top(self, line, cell=None):\n",
    "        if TOP:\n",
    "            if cell is None:\n",
    "                cell = line\n",
    "            ip = get_ipython()\n",
    "            res = ip.run_cell(cell)\n",
    "\n",
    "get_ipython().register_magics(MyMagics)"
   ]
  },
  {
   "cell_type": "markdown",
   "metadata": {},
   "source": [
    "This notebook has only been tested in the specific Python versions below."
   ]
  },
  {
   "cell_type": "code",
   "execution_count": 3,
   "metadata": {},
   "outputs": [],
   "source": [
    "import sys"
   ]
  },
  {
   "cell_type": "code",
   "execution_count": 4,
   "metadata": {},
   "outputs": [],
   "source": [
    "%top assert sys.version_info[0:2] in [(3, 6)]"
   ]
  },
  {
   "cell_type": "markdown",
   "metadata": {},
   "source": [
    "Jupyter has the bad habit of continuing the execution sometimes after an exception has happened. This variable tells us if any exception has happened until now."
   ]
  },
  {
   "cell_type": "code",
   "execution_count": 5,
   "metadata": {},
   "outputs": [],
   "source": [
    "EXCEPTION_HAPPENED = []"
   ]
  },
  {
   "cell_type": "code",
   "execution_count": 6,
   "metadata": {},
   "outputs": [],
   "source": [
    "%top IP = get_ipython()"
   ]
  },
  {
   "cell_type": "code",
   "execution_count": 7,
   "metadata": {},
   "outputs": [],
   "source": [
    "from IPython.core.ultratb import AutoFormattedTB\n",
    "itb = AutoFormattedTB(mode = 'Plain', tb_offset = 1)\n",
    "def custom_exc(shell, etype, evalue, tb, tb_offset=None):\n",
    "    global EXCEPTION_HAPPENED\n",
    "    EXCEPTION_HAPPENED.append(IP.last_execution_result.execution_count + 1)\n",
    "    shell.showtraceback((etype, evalue, tb), tb_offset=tb_offset)"
   ]
  },
  {
   "cell_type": "code",
   "execution_count": 8,
   "metadata": {},
   "outputs": [],
   "source": [
    "%top IP.set_custom_exc((Exception,), custom_exc)"
   ]
  },
  {
   "cell_type": "markdown",
   "metadata": {},
   "source": [
    "## Do"
   ]
  },
  {
   "cell_type": "markdown",
   "metadata": {},
   "source": [
    "Next, we define a wrapper for command execution."
   ]
  },
  {
   "cell_type": "code",
   "execution_count": 9,
   "metadata": {},
   "outputs": [],
   "source": [
    "import subprocess\n",
    "import os\n",
    "import json"
   ]
  },
  {
   "cell_type": "markdown",
   "metadata": {},
   "source": [
    "The `do()` command executes and saves return code, stdin and stderr."
   ]
  },
  {
   "cell_type": "code",
   "execution_count": 10,
   "metadata": {},
   "outputs": [],
   "source": [
    "class O:\n",
    "    def __init__(self, **keys): self.__dict__.update(keys)\n",
    "    def __repr__(self): return str(self.__dict__)"
   ]
  },
  {
   "cell_type": "code",
   "execution_count": 11,
   "metadata": {},
   "outputs": [],
   "source": [
    "def do(command, env=None, shell=False, log=False, **args):\n",
    "    result = subprocess.Popen(command, stdout=subprocess.PIPE, stderr = subprocess.PIPE,\n",
    "                              shell=shell,\n",
    "                              env=dict(os.environ, **({} if env is None else env))\n",
    "                             )\n",
    "    stdout, stderr = result.communicate(timeout=10)\n",
    "    os.makedirs('build', exist_ok=True)\n",
    "    code = result.returncode\n",
    "    ecode = ((256-code) * -1) if code > 127 else code\n",
    "    if log:\n",
    "        with open('build/do.log', 'a+') as f:\n",
    "            print(json.dumps({'cmd':command, 'env':env, 'exitcode':ecode, 'ocode':code}), env, file=f)\n",
    "    return O(cmd=command,returncode=ecode, ocode=result.returncode, stdout=stdout, stderr=stderr)"
   ]
  },
  {
   "cell_type": "markdown",
   "metadata": {},
   "source": [
    "#### Extract Status"
   ]
  },
  {
   "cell_type": "code",
   "execution_count": 32,
   "metadata": {},
   "outputs": [],
   "source": [
    "def logit(v):\n",
    "    print(v, file=sys.stderr)"
   ]
  },
  {
   "cell_type": "code",
   "execution_count": 33,
   "metadata": {},
   "outputs": [],
   "source": [
    "import random"
   ]
  },
  {
   "cell_type": "code",
   "execution_count": 34,
   "metadata": {},
   "outputs": [],
   "source": [
    "random.seed(0) # Note: Seed is not useful in experiments since we rely also on time."
   ]
  },
  {
   "cell_type": "markdown",
   "metadata": {},
   "source": [
    "# Experiments"
   ]
  },
  {
   "cell_type": "markdown",
   "metadata": {},
   "source": [
    "First, we regenrate the data files for `pFuzzer`."
   ]
  },
  {
   "cell_type": "code",
   "execution_count": 131,
   "metadata": {},
   "outputs": [
    {
     "name": "stdout",
     "output_type": "stream",
     "text": [
      "/Library/Developer/CommandLineTools/usr/bin/make clean\n",
      "find . -name __pycache__ -type d -print0 -prune | xargs -0 -- rm -r\n",
      "for i in examples/cjson/ examples/csv/ examples/ini/ examples/mjs/ examples/tiny/; do (cd $i; make clean); done\n",
      "rm -rf *.o cjson __pycache__/ *.gcda *.gcno build *.cov* *.dSYM\n",
      "rm -rf *.o csvparser __pycache__/ *.gcda *.gcno build *.cov* *.dSYM\n",
      "rm -rf *.o ini __pycache__/ *.gcda *.gcno build *.cov* *.dSYM\n",
      "rm -rf *.o mjs __pycache__/ *.gcda *.gcno build *.cov* *.dSYM\n",
      "rm -rf *.o tiny __pycache__/ *.gcda *.gcno build *.cov* *.dSYM\n",
      "rm -rf examples/results_*.json\n",
      "/Library/Developer/CommandLineTools/usr/bin/make compile\n",
      "for i in examples/cjson/ examples/csv/ examples/ini/ examples/mjs/ examples/tiny/; do (cd $i; make); done\n",
      "gcc -g -o cjson cJSON.c\n",
      "\u001b[1mcJSON.c:102:23: \u001b[0m\u001b[0;1;35mwarning: \u001b[0m\u001b[1mpassing 'const unsigned char *' to parameter of type\n",
      "      'const char *' converts between pointers to integer types with different\n",
      "      sign [-Wpointer-sign]\u001b[0m\n",
      "  string_len = strlen(string1);\n",
      "\u001b[0;1;32m                      ^~~~~~~\n",
      "\u001b[0m\u001b[1m/Library/Developer/CommandLineTools/SDKs/MacOSX.sdk/usr/include/string.h:82:28: \u001b[0m\u001b[0;1;30mnote: \u001b[0m\n",
      "      passing argument to parameter '__s' here\u001b[0m\n",
      "size_t   strlen(const char *__s);\n",
      "\u001b[0;1;32m                            ^\n",
      "\u001b[0m\u001b[1mcJSON.c:739:47: \u001b[0m\u001b[0;1;35mwarning: \u001b[0m\u001b[1mcomparison between pointer and integer ('unsigned char'\n",
      "      and 'void *') [-Wpointer-integer-compare]\u001b[0m\n",
      "        if (buffer_at_offset(input_buffer)[0] == NULL)\n",
      "\u001b[0;1;32m            ~~~~~~~~~~~~~~~~~~~~~~~~~~~~~~~~~ ^  ~~~~\n",
      "\u001b[0m\u001b[1mcJSON.c:1261:87: \u001b[0m\u001b[0;1;35mwarning: \u001b[0m\u001b[1mcomparison between pointer and integer\n",
      "      ('unsigned char' and 'void *') [-Wpointer-integer-compare]\u001b[0m\n",
      "  ...0) || (buffer_at_offset(input_buffer)[0] == NULL))\n",
      "\u001b[0;1;32m            ~~~~~~~~~~~~~~~~~~~~~~~~~~~~~~~~~ ^  ~~~~\n",
      "\u001b[0m\u001b[1mcJSON.c:1292:26: \u001b[0m\u001b[0;1;35mwarning: \u001b[0m\u001b[1minitializing 'const unsigned char *' with an\n",
      "      expression of type 'const char *' converts between pointers to integer\n",
      "      types with different sign [-Wpointer-sign]\u001b[0m\n",
      "  ...unsigned char* curr_token = (const char*)buffer_at_offset(input_buffer);\n",
      "\u001b[0;1;32m                    ^            ~~~~~~~~~~~~~~~~~~~~~~~~~~~~~~~~~~~~~~~~~~~\n",
      "\u001b[0m\u001b[1mcJSON.c:1294:81: \u001b[0m\u001b[0;1;35mwarning: \u001b[0m\u001b[1mpassing 'const char *' to parameter of type\n",
      "      'const unsigned char *' converts between pointers to integer types with\n",
      "      different sign [-Wpointer-sign]\u001b[0m\n",
      "  ...'n') && (precise_strncmp((const char*)buffer_at_offset(input_buffer), \"n...\n",
      "\u001b[0;1;32m                              ^~~~~~~~~~~~~~~~~~~~~~~~~~~~~~~~~~~~~~~~~~~\n",
      "\u001b[0m\u001b[1mcJSON.c:98:49: \u001b[0m\u001b[0;1;30mnote: \u001b[0mpassing argument to parameter 'string1' here\u001b[0m\n",
      "static int precise_strncmp(const unsigned char* string1, char string2[]...\n",
      "\u001b[0;1;32m                                                ^\n",
      "\u001b[0m\u001b[1mcJSON.c:1301:81: \u001b[0m\u001b[0;1;35mwarning: \u001b[0m\u001b[1mpassing 'const char *' to parameter of type\n",
      "      'const unsigned char *' converts between pointers to integer types with\n",
      "      different sign [-Wpointer-sign]\u001b[0m\n",
      "  ...'f') && (precise_strncmp((const char*)buffer_at_offset(input_buffer), \"f...\n",
      "\u001b[0;1;32m                              ^~~~~~~~~~~~~~~~~~~~~~~~~~~~~~~~~~~~~~~~~~~\n",
      "\u001b[0m\u001b[1mcJSON.c:98:49: \u001b[0m\u001b[0;1;30mnote: \u001b[0mpassing argument to parameter 'string1' here\u001b[0m\n",
      "static int precise_strncmp(const unsigned char* string1, char string2[]...\n",
      "\u001b[0;1;32m                                                ^\n",
      "\u001b[0m\u001b[1mcJSON.c:1308:81: \u001b[0m\u001b[0;1;35mwarning: \u001b[0m\u001b[1mpassing 'const char *' to parameter of type\n",
      "      'const unsigned char *' converts between pointers to integer types with\n",
      "      different sign [-Wpointer-sign]\u001b[0m\n",
      "  ...'t') && (precise_strncmp((const char*)buffer_at_offset(input_buffer), \"t...\n",
      "\u001b[0;1;32m                              ^~~~~~~~~~~~~~~~~~~~~~~~~~~~~~~~~~~~~~~~~~~\n",
      "\u001b[0m\u001b[1mcJSON.c:98:49: \u001b[0m\u001b[0;1;30mnote: \u001b[0mpassing argument to parameter 'string1' here\u001b[0m\n",
      "static int precise_strncmp(const unsigned char* string1, char string2[]...\n",
      "\u001b[0;1;32m                                                ^\n",
      "\u001b[0m\u001b[1mcJSON.c:1466:47: \u001b[0m\u001b[0;1;35mwarning: \u001b[0m\u001b[1mcomparison between pointer and integer\n",
      "      ('unsigned char' and 'void *') [-Wpointer-integer-compare]\u001b[0m\n",
      "        if (buffer_at_offset(input_buffer)[0] != NULL)\n",
      "\u001b[0;1;32m            ~~~~~~~~~~~~~~~~~~~~~~~~~~~~~~~~~ ^  ~~~~\n",
      "\u001b[0m\u001b[1mcJSON.c:1650:45: \u001b[0m\u001b[0;1;35mwarning: \u001b[0m\u001b[1mcomparison between pointer and integer\n",
      "      ('unsigned char' and 'void *') [-Wpointer-integer-compare]\u001b[0m\n",
      "      if (buffer_at_offset(input_buffer)[0] != NULL)\n",
      "\u001b[0;1;32m          ~~~~~~~~~~~~~~~~~~~~~~~~~~~~~~~~~ ^  ~~~~\n",
      "\u001b[0m\u001b[1mcJSON.c:3030:12: \u001b[0m\u001b[0;1;35mwarning: \u001b[0m\u001b[1mformat string is not a string literal\n",
      "      (potentially insecure) [-Wformat-security]\u001b[0m\n",
      "    printf(string);\n",
      "\u001b[0;1;32m           ^~~~~~\n",
      "\u001b[0m\u001b[1mcJSON.c:3030:12: \u001b[0m\u001b[0;1;30mnote: \u001b[0mtreat the string as an argument to avoid this\u001b[0m\n",
      "    printf(string);\n",
      "\u001b[0;1;32m           ^\n",
      "\u001b[0m\u001b[0;32m           \"%s\", \n",
      "\u001b[0m10 warnings generated.\n",
      "gcc -fprofile-arcs -ftest-coverage -g -o cjson.cov cJSON.c\n",
      "\u001b[1mcJSON.c:102:23: \u001b[0m\u001b[0;1;35mwarning: \u001b[0m\u001b[1mpassing 'const unsigned char *' to parameter of type\n",
      "      'const char *' converts between pointers to integer types with different\n",
      "      sign [-Wpointer-sign]\u001b[0m\n",
      "  string_len = strlen(string1);\n",
      "\u001b[0;1;32m                      ^~~~~~~\n",
      "\u001b[0m\u001b[1m/Library/Developer/CommandLineTools/SDKs/MacOSX.sdk/usr/include/string.h:82:28: \u001b[0m\u001b[0;1;30mnote: \u001b[0m\n",
      "      passing argument to parameter '__s' here\u001b[0m\n",
      "size_t   strlen(const char *__s);\n",
      "\u001b[0;1;32m                            ^\n",
      "\u001b[0m\u001b[1mcJSON.c:739:47: \u001b[0m\u001b[0;1;35mwarning: \u001b[0m\u001b[1mcomparison between pointer and integer ('unsigned char'\n",
      "      and 'void *') [-Wpointer-integer-compare]\u001b[0m\n",
      "        if (buffer_at_offset(input_buffer)[0] == NULL)\n",
      "\u001b[0;1;32m            ~~~~~~~~~~~~~~~~~~~~~~~~~~~~~~~~~ ^  ~~~~\n",
      "\u001b[0m\u001b[1mcJSON.c:1261:87: \u001b[0m\u001b[0;1;35mwarning: \u001b[0m\u001b[1mcomparison between pointer and integer\n",
      "      ('unsigned char' and 'void *') [-Wpointer-integer-compare]\u001b[0m\n",
      "  ...0) || (buffer_at_offset(input_buffer)[0] == NULL))\n",
      "\u001b[0;1;32m            ~~~~~~~~~~~~~~~~~~~~~~~~~~~~~~~~~ ^  ~~~~\n",
      "\u001b[0m\u001b[1mcJSON.c:1292:26: \u001b[0m\u001b[0;1;35mwarning: \u001b[0m\u001b[1minitializing 'const unsigned char *' with an\n",
      "      expression of type 'const char *' converts between pointers to integer\n",
      "      types with different sign [-Wpointer-sign]\u001b[0m\n",
      "  ...unsigned char* curr_token = (const char*)buffer_at_offset(input_buffer);\n",
      "\u001b[0;1;32m                    ^            ~~~~~~~~~~~~~~~~~~~~~~~~~~~~~~~~~~~~~~~~~~~\n",
      "\u001b[0m\u001b[1mcJSON.c:1294:81: \u001b[0m\u001b[0;1;35mwarning: \u001b[0m\u001b[1mpassing 'const char *' to parameter of type\n",
      "      'const unsigned char *' converts between pointers to integer types with\n",
      "      different sign [-Wpointer-sign]\u001b[0m\n",
      "  ...'n') && (precise_strncmp((const char*)buffer_at_offset(input_buffer), \"n...\n",
      "\u001b[0;1;32m                              ^~~~~~~~~~~~~~~~~~~~~~~~~~~~~~~~~~~~~~~~~~~\n",
      "\u001b[0m\u001b[1mcJSON.c:98:49: \u001b[0m\u001b[0;1;30mnote: \u001b[0mpassing argument to parameter 'string1' here\u001b[0m\n",
      "static int precise_strncmp(const unsigned char* string1, char string2[]...\n",
      "\u001b[0;1;32m                                                ^\n",
      "\u001b[0m\u001b[1mcJSON.c:1301:81: \u001b[0m\u001b[0;1;35mwarning: \u001b[0m\u001b[1mpassing 'const char *' to parameter of type\n",
      "      'const unsigned char *' converts between pointers to integer types with\n",
      "      different sign [-Wpointer-sign]\u001b[0m\n",
      "  ...'f') && (precise_strncmp((const char*)buffer_at_offset(input_buffer), \"f...\n",
      "\u001b[0;1;32m                              ^~~~~~~~~~~~~~~~~~~~~~~~~~~~~~~~~~~~~~~~~~~\n",
      "\u001b[0m\u001b[1mcJSON.c:98:49: \u001b[0m\u001b[0;1;30mnote: \u001b[0mpassing argument to parameter 'string1' here\u001b[0m\n",
      "static int precise_strncmp(const unsigned char* string1, char string2[]...\n",
      "\u001b[0;1;32m                                                ^\n",
      "\u001b[0m\u001b[1mcJSON.c:1308:81: \u001b[0m\u001b[0;1;35mwarning: \u001b[0m\u001b[1mpassing 'const char *' to parameter of type\n",
      "      'const unsigned char *' converts between pointers to integer types with\n",
      "      different sign [-Wpointer-sign]\u001b[0m\n",
      "  ...'t') && (precise_strncmp((const char*)buffer_at_offset(input_buffer), \"t...\n",
      "\u001b[0;1;32m                              ^~~~~~~~~~~~~~~~~~~~~~~~~~~~~~~~~~~~~~~~~~~\n",
      "\u001b[0m\u001b[1mcJSON.c:98:49: \u001b[0m\u001b[0;1;30mnote: \u001b[0mpassing argument to parameter 'string1' here\u001b[0m\n",
      "static int precise_strncmp(const unsigned char* string1, char string2[]...\n",
      "\u001b[0;1;32m                                                ^\n",
      "\u001b[0m\u001b[1mcJSON.c:1466:47: \u001b[0m\u001b[0;1;35mwarning: \u001b[0m\u001b[1mcomparison between pointer and integer\n",
      "      ('unsigned char' and 'void *') [-Wpointer-integer-compare]\u001b[0m\n",
      "        if (buffer_at_offset(input_buffer)[0] != NULL)\n",
      "\u001b[0;1;32m            ~~~~~~~~~~~~~~~~~~~~~~~~~~~~~~~~~ ^  ~~~~\n",
      "\u001b[0m\u001b[1mcJSON.c:1650:45: \u001b[0m\u001b[0;1;35mwarning: \u001b[0m\u001b[1mcomparison between pointer and integer\n",
      "      ('unsigned char' and 'void *') [-Wpointer-integer-compare]\u001b[0m\n",
      "      if (buffer_at_offset(input_buffer)[0] != NULL)\n",
      "\u001b[0;1;32m          ~~~~~~~~~~~~~~~~~~~~~~~~~~~~~~~~~ ^  ~~~~\n",
      "\u001b[0m\u001b[1mcJSON.c:3030:12: \u001b[0m\u001b[0;1;35mwarning: \u001b[0m\u001b[1mformat string is not a string literal\n",
      "      (potentially insecure) [-Wformat-security]\u001b[0m\n",
      "    printf(string);\n",
      "\u001b[0;1;32m           ^~~~~~\n",
      "\u001b[0m\u001b[1mcJSON.c:3030:12: \u001b[0m\u001b[0;1;30mnote: \u001b[0mtreat the string as an argument to avoid this\u001b[0m\n",
      "    printf(string);\n",
      "\u001b[0;1;32m           ^\n",
      "\u001b[0m\u001b[0;32m           \"%s\", \n"
     ]
    },
    {
     "name": "stdout",
     "output_type": "stream",
     "text": [
      "\u001b[0m10 warnings generated.\n",
      "gcc -g -o csvparser csvparser.c\n",
      "gcc -fprofile-arcs -ftest-coverage -g -o csvparser.cov csvparser.c\n",
      "gcc -g -o ini ini.c\n",
      "gcc -fprofile-arcs -ftest-coverage -g -o ini.cov ini.c\n",
      "gcc -ldl -g -o mjs mjs.c\n",
      "gcc -ldl -fprofile-arcs -ftest-coverage -g -o mjs.cov mjs.c\n",
      "gcc -g -o tiny tiny.c\n",
      "\u001b[1mtiny.c:105:49: \u001b[0m\u001b[0;1;35mwarning: \u001b[0m\u001b[1madd explicit braces to avoid dangling else\n",
      "      [-Wdangling-else]\u001b[0m\n",
      "              if (id_name[1] == '\\0') sym = ID; else syntax_error();\n",
      "\u001b[0;1;32m                                                ^\n",
      "\u001b[0m1 warning generated.\n",
      "gcc -fprofile-arcs -ftest-coverage -g -o tiny.cov tiny.c\n",
      "\u001b[1mtiny.c:105:49: \u001b[0m\u001b[0;1;35mwarning: \u001b[0m\u001b[1madd explicit braces to avoid dangling else\n",
      "      [-Wdangling-else]\u001b[0m\n",
      "              if (id_name[1] == '\\0') sym = ID; else syntax_error();\n",
      "\u001b[0;1;32m                                                ^\n",
      "\u001b[0m1 warning generated.\n",
      "/Library/Developer/CommandLineTools/usr/bin/make convert\n",
      "cd pfuzzer/; for i in *.txt; do \\\n",
      "\t\techo ../convert_validtxt.py $i  ${i//.txt/.py}; \\\n",
      "\t\tpython3 ../convert_validtxt.py $i > ${i//.txt/.py}; \\\n",
      "\t\tdone\n",
      "../convert_validtxt.py cjson.txt cjson.py\n",
      "../convert_validtxt.py csv.txt csv.py\n",
      "../convert_validtxt.py ini.txt ini.py\n",
      "../convert_validtxt.py mjs.txt mjs.py\n",
      "../convert_validtxt.py tinyc.txt tinyc.py\n",
      "env LC_ALL=C python3 check_inputs.py examples/cjson/cjson.cov pfuzzer/cjson.py\n",
      "(14, ('14.78', '14.76'))\n",
      "env LC_ALL=C python3 check_inputs.py examples/csv/csvparser.cov pfuzzer/csv.py\n",
      "(8, ('66.97', '58.33'))\n",
      "env LC_ALL=C python3 check_inputs.py examples/ini/ini.cov pfuzzer/ini.py\n",
      "(7, ('76.15', '58.97'))\n",
      "env LC_ALL=C python3 check_inputs.py examples/mjs/mjs.cov pfuzzer/mjs.py\n",
      "(15, ('21.18', '11.96'))\n",
      "env LC_ALL=C python3 check_inputs.py examples/tiny/tiny.cov pfuzzer/tinyc.py\n",
      "(8, ('87.82', '73.23'))\n",
      "mv examples/results_* pfuzzer/\n"
     ]
    }
   ],
   "source": [
    "!make pFuzz"
   ]
  },
  {
   "cell_type": "code",
   "execution_count": 132,
   "metadata": {},
   "outputs": [
    {
     "name": "stdout",
     "output_type": "stream",
     "text": [
      "==> pfuzzer/results_cjson.json <==\r\n",
      "{\"output\": [32, 123, 34, 34, 58, 91, 51, 46, 48, 69, 50, 53, 93, 125], \"cumcoverage\": [\"14.78\", \"14.76\"], \"time\": 1281.298261}\r\n",
      "\r\n",
      "==> pfuzzer/results_csvparser.json <==\r\n",
      "{\"output\": [53, 72, 10, 44, 10, 34, 34, 53, 13], \"cumcoverage\": [\"66.97\", \"58.33\"], \"time\": 341.74004}\r\n",
      "\r\n",
      "==> pfuzzer/results_ini.json <==\r\n",
      "{\"output\": [32, 10, 61], \"cumcoverage\": [\"76.15\", \"58.97\"], \"time\": 2503.109502}\r\n",
      "\r\n",
      "==> pfuzzer/results_mjs.json <==\r\n",
      "{\"output\": [82, 38, 40, 43, 34, 34, 47, 39, 72, 39, 62, 40, 53, 94, 45, 45, 52, 46, 53, 101, 50, 41, 41], \"cumcoverage\": [\"21.18\", \"11.96\"], \"time\": 2023.479886}\r\n",
      "\r\n",
      "==> pfuzzer/results_tiny.json <==\r\n",
      "{\"output\": [32, 10, 105, 102, 32, 40, 53, 41, 59], \"cumcoverage\": [\"87.82\", \"73.23\"], \"time\": 1015.704999}\r\n"
     ]
    }
   ],
   "source": [
    "!tail -1 pfuzzer/results_*"
   ]
  },
  {
   "cell_type": "markdown",
   "metadata": {},
   "source": [
    "Now, we are ready to do the bFuzzer experiments."
   ]
  },
  {
   "cell_type": "code",
   "execution_count": 133,
   "metadata": {},
   "outputs": [],
   "source": [
    "from datetime import datetime"
   ]
  },
  {
   "cell_type": "code",
   "execution_count": 134,
   "metadata": {},
   "outputs": [],
   "source": [
    "from IPython.display import Image"
   ]
  },
  {
   "cell_type": "code",
   "execution_count": 135,
   "metadata": {},
   "outputs": [],
   "source": [
    "from io import BytesIO"
   ]
  },
  {
   "cell_type": "code",
   "execution_count": 136,
   "metadata": {},
   "outputs": [],
   "source": [
    "def zoom(v, fname=None):\n",
    "    # return v directly if you do not want to zoom out.\n",
    "    assert v is not None\n",
    "    if zoom:\n",
    "        figfile = BytesIO()\n",
    "        v.savefig(figfile, format='svg')\n",
    "        Image(figfile.getvalue())\n",
    "        if fname is None: fname = 'myfile'\n",
    "        with open('%s.svg' % fname, 'wb+') as f:\n",
    "            f.write(figfile.getvalue())\n",
    "        return \n",
    "    return v"
   ]
  },
  {
   "cell_type": "code",
   "execution_count": 140,
   "metadata": {},
   "outputs": [],
   "source": [
    "import time\n",
    "from datetime import timedelta, datetime"
   ]
  },
  {
   "cell_type": "code",
   "execution_count": 142,
   "metadata": {},
   "outputs": [],
   "source": [
    "time_to_run = 3600"
   ]
  },
  {
   "cell_type": "markdown",
   "metadata": {},
   "source": [
    "## TinyC"
   ]
  },
  {
   "cell_type": "code",
   "execution_count": 143,
   "metadata": {},
   "outputs": [],
   "source": [
    "def logit(v):\n",
    "    ..."
   ]
  },
  {
   "cell_type": "code",
   "execution_count": 146,
   "metadata": {},
   "outputs": [
    {
     "name": "stdout",
     "output_type": "stream",
     "text": [
      "     505 build/results_tinyc.json\r\n"
     ]
    }
   ],
   "source": [
    "!wc -l build/results_tinyc.json"
   ]
  },
  {
   "cell_type": "code",
   "execution_count": 147,
   "metadata": {},
   "outputs": [
    {
     "name": "stdout",
     "output_type": "stream",
     "text": [
      "{\"output\": [109, 10, 61, 117, 32, 61, 50, 10, 43, 103, 45, 97, 43, 100, 10, 10, 32, 10, 10, 32, 32, 10, 45, 54, 43, 54, 57, 50, 10, 10, 10, 43, 56, 10, 45, 55, 59], \"cumcoverage\": [\"83.44\", \"71.65\"], \"time\": 3503.858699798584}\r\n",
      "{\"output\": [99, 59, 32, 32, 10, 10], \"cumcoverage\": [\"83.44\", \"71.65\"], \"time\": 3508.006595849991}\r\n",
      "{\"output\": [32, 54, 32, 32, 43, 97, 10, 59], \"cumcoverage\": [\"83.44\", \"71.65\"], \"time\": 3510.056427717209}\r\n",
      "{\"output\": [117, 60, 105, 45, 10, 10, 100, 59], \"cumcoverage\": [\"83.44\", \"71.65\"], \"time\": 3513.218380689621}\r\n",
      "{\"output\": [55, 57, 59, 32, 32, 10], \"cumcoverage\": [\"83.44\", \"71.65\"], \"time\": 3515.815191745758}\r\n",
      "{\"output\": [123, 53, 55, 49, 54, 49, 60, 97, 10, 10, 43, 114, 32, 32, 43, 115, 45, 49, 45, 57, 49, 57, 32, 45, 112, 10, 43, 10, 119, 45, 52, 49, 48, 54, 59, 106, 43, 122, 43, 48, 32, 59, 52, 57, 43, 100, 59, 104, 10, 59, 121, 45, 51, 45, 103, 32, 43, 50, 10, 45, 54, 56, 56, 53, 54, 51, 45, 55, 53, 43, 10, 51, 43, 115, 32, 60, 104, 32, 45, 118, 10, 45, 110, 59, 112, 10, 32, 59, 40, 111, 45, 115, 32, 32, 43, 56, 43, 114, 10, 10, 60, 51, 49, 10, 43, 101, 41, 45, 122, 32, 59, 117, 32, 60, 54, 55, 53, 50, 32, 10, 10, 45, 53, 48, 51, 45, 56, 49, 49, 48, 53, 51, 50, 53, 49, 55, 52, 54, 59, 32, 109, 43, 106, 59, 53, 54, 49, 55, 57, 32, 10, 60, 108, 45, 110, 10, 45, 106, 59, 105, 45, 32, 50, 52, 56, 56, 49, 60, 106, 32, 10, 10, 43, 122, 45, 52, 48, 43, 110, 43, 117, 10, 45, 97, 10, 43, 108, 32, 43, 104, 45, 99, 10, 10, 32, 43, 50, 32, 32, 32, 59, 121, 10, 43, 111, 10, 45, 119, 10, 60, 117, 32, 59, 115, 43, 48, 57, 50, 32, 59, 125], \"cumcoverage\": [\"83.44\", \"71.65\"], \"time\": 3574.623394727707}\r\n",
      "{\"output\": [52, 48, 48, 45, 10, 122, 45, 112, 59], \"cumcoverage\": [\"83.44\", \"71.65\"], \"time\": 3575.6088848114014}\r\n",
      "{\"output\": [115, 32, 45, 49, 49, 50, 60, 110, 59], \"cumcoverage\": [\"83.44\", \"71.65\"], \"time\": 3579.575715780258}\r\n",
      "{\"output\": [53, 43, 49, 54, 53, 59], \"cumcoverage\": [\"83.44\", \"71.65\"], \"time\": 3580.6811847686768}\r\n",
      "{\"output\": [101, 45, 116, 60, 102, 43, 115, 43, 10, 53, 32, 59], \"cumcoverage\": [\"83.44\", \"71.65\"], \"time\": 3583.3866996765137}\r\n"
     ]
    }
   ],
   "source": [
    "!tail build/results_tinyc.json"
   ]
  },
  {
   "cell_type": "markdown",
   "metadata": {},
   "source": [
    "## Ini"
   ]
  },
  {
   "cell_type": "code",
   "execution_count": 150,
   "metadata": {},
   "outputs": [
    {
     "name": "stdout",
     "output_type": "stream",
     "text": [
      "     183 build/results_ini.json\r\n"
     ]
    }
   ],
   "source": [
    "!wc -l build/results_ini.json"
   ]
  },
  {
   "cell_type": "code",
   "execution_count": 151,
   "metadata": {},
   "outputs": [
    {
     "name": "stdout",
     "output_type": "stream",
     "text": [
      "{\"output\": [175, 133, 150, 146, 159, 143, 217, 57, 144, 38, 216, 247, 197, 192, 170, 116, 59, 206, 187, 99, 75, 103, 208, 183, 161, 166, 116, 243, 166, 157, 242, 213, 55, 240, 222, 228, 31, 132, 217, 70, 87, 119, 198, 67, 51, 219, 46, 235, 127, 15, 214, 236, 202, 9, 70, 126, 228, 206, 198, 78, 145, 179, 251, 146, 182, 86, 3, 55, 7, 161, 127, 25, 238, 44, 241, 238, 243, 94, 8, 183, 142, 11, 48, 232, 139, 8, 153, 131, 128, 13, 49, 101, 4, 152, 65, 248, 26, 197, 13, 254, 61], \"cumcoverage\": [\"75.38\", \"57.69\"], \"time\": 3392.6332290172577}\r\n",
      "{\"output\": [163, 58, 94, 83, 200], \"cumcoverage\": [\"75.38\", \"57.69\"], \"time\": 3392.730494260788}\r\n",
      "{\"output\": [153, 229, 120, 175, 170, 27, 22, 84, 115, 6, 46, 118, 223, 120, 216, 155, 180, 68, 127, 21, 110, 49, 216, 204, 185, 102, 96, 12, 98, 180, 138, 237, 5, 53, 22, 181, 93, 37, 110, 89, 120, 92, 211, 227, 116, 5, 112, 131, 132, 164, 155, 248, 173, 37, 217, 72, 74, 167, 166, 216, 7, 145, 183, 190, 35, 207, 6, 61, 196], \"cumcoverage\": [\"75.38\", \"57.69\"], \"time\": 3393.642815351486}\r\n",
      "{\"output\": [127, 155, 250, 250, 25, 184, 69, 63, 36, 196, 74, 75, 237, 254, 191, 235, 48, 72, 115, 76, 233, 137, 254, 101, 185, 229, 201, 34, 113, 18, 15, 236, 20, 20, 197, 52, 58], \"cumcoverage\": [\"75.38\", \"57.69\"], \"time\": 3406.7201011180878}\r\n",
      "{\"output\": [147, 148, 128, 124, 93, 212, 41, 51, 104, 24, 126, 221, 131, 23, 152, 104, 159, 186, 104, 50, 215, 84, 213, 56, 198, 39, 141, 60, 236, 93, 54, 131, 128, 79, 79, 46, 7, 223, 59, 86, 172, 230, 17, 160, 152, 201, 104, 199, 41, 218, 47, 181, 116, 152, 96, 208, 213, 168, 226, 131, 125, 2, 50, 139, 76, 216, 167, 151, 90, 207, 234, 228, 66, 165, 156, 187, 212, 92, 167, 144, 43, 174, 177, 99, 60, 214, 208, 228, 103, 136, 223, 131, 99, 111, 70, 178, 129, 216, 170, 81, 185, 39, 244, 146, 217, 57, 206, 220, 18, 191, 61], \"cumcoverage\": [\"75.38\", \"57.69\"], \"time\": 3507.2154989242554}\r\n",
      "{\"output\": [96, 189, 115, 188, 65, 199, 220, 129, 182, 132, 182, 201, 199, 202, 71, 217, 11, 211, 40, 248, 5, 70, 136, 251, 43, 21, 109, 76, 66, 136, 102, 62, 125, 18, 194, 28, 45, 230, 194, 6, 91, 133, 153, 52, 234, 139, 153, 47, 76, 161, 92, 103, 12, 52, 151, 103, 126, 25, 127, 99, 142, 205, 236, 7, 232, 83, 224, 12, 75, 167, 235, 110, 35, 117, 247, 140, 24, 86, 36, 140, 71, 155, 150, 94, 42, 249, 23, 96, 18, 108, 56, 19, 1, 193, 57, 200, 165, 200, 79, 57, 221, 204, 127, 200, 136, 247, 75, 179, 217, 94, 21, 116, 151, 13, 244, 151, 159, 158, 91, 192, 193, 61], \"cumcoverage\": [\"75.38\", \"57.69\"], \"time\": 3509.8914511203766}\r\n",
      "{\"output\": [251, 56, 2, 215, 234, 97, 105, 140, 207, 58], \"cumcoverage\": [\"75.38\", \"57.69\"], \"time\": 3526.188593149185}\r\n",
      "{\"output\": [159, 68, 83, 79, 74, 200, 48, 95, 212, 138, 44, 85, 80, 245, 95, 224, 51, 169, 42, 145, 1, 179, 61], \"cumcoverage\": [\"75.38\", \"57.69\"], \"time\": 3553.11484003067}\r\n",
      "{\"output\": [18, 204, 117, 194, 218, 146, 61], \"cumcoverage\": [\"75.38\", \"57.69\"], \"time\": 3553.2345180511475}\r\n",
      "{\"output\": [6, 162, 247, 139, 208, 39, 238, 135, 92, 106, 58], \"cumcoverage\": [\"75.38\", \"57.69\"], \"time\": 3594.1362862586975}\r\n"
     ]
    }
   ],
   "source": [
    "!tail build/results_ini.json"
   ]
  },
  {
   "cell_type": "markdown",
   "metadata": {},
   "source": [
    "## CSV"
   ]
  },
  {
   "cell_type": "code",
   "execution_count": 154,
   "metadata": {},
   "outputs": [
    {
     "name": "stdout",
     "output_type": "stream",
     "text": [
      "   33528 build/results_csv.json\r\n"
     ]
    }
   ],
   "source": [
    "!wc -l build/results_csv.json"
   ]
  },
  {
   "cell_type": "code",
   "execution_count": 155,
   "metadata": {},
   "outputs": [
    {
     "name": "stdout",
     "output_type": "stream",
     "text": [
      "{\"output\": [174, 67, 156, 69], \"cumcoverage\": [\"66.97\", \"58.33\"], \"time\": 3599.1013588905334}\r\n",
      "{\"output\": [207, 136, 116, 151, 164], \"cumcoverage\": [\"66.97\", \"58.33\"], \"time\": 3599.19219994545}\r\n",
      "{\"output\": [168, 210, 58, 42, 111, 144, 125], \"cumcoverage\": [\"66.97\", \"58.33\"], \"time\": 3599.301171064377}\r\n",
      "{\"output\": [4, 141, 138, 142, 29, 234, 132], \"cumcoverage\": [\"66.97\", \"58.33\"], \"time\": 3599.449692964554}\r\n",
      "{\"output\": [103, 175, 46, 234], \"cumcoverage\": [\"66.97\", \"58.33\"], \"time\": 3599.529397010803}\r\n",
      "{\"output\": [76, 170, 244, 244], \"cumcoverage\": [\"66.97\", \"58.33\"], \"time\": 3599.6209280490875}\r\n",
      "{\"output\": [210, 203, 249, 52], \"cumcoverage\": [\"66.97\", \"58.33\"], \"time\": 3599.704938173294}\r\n",
      "{\"output\": [136, 58, 10, 21, 56, 40], \"cumcoverage\": [\"66.97\", \"58.33\"], \"time\": 3599.804256916046}\r\n",
      "{\"output\": [113, 132, 75, 40], \"cumcoverage\": [\"66.97\", \"58.33\"], \"time\": 3599.8992841243744}\r\n",
      "{\"output\": [241, 117, 18, 167], \"cumcoverage\": [\"66.97\", \"58.33\"], \"time\": 3600.0225481987}\r\n"
     ]
    }
   ],
   "source": [
    "!tail build/results_csv.json"
   ]
  },
  {
   "cell_type": "markdown",
   "metadata": {},
   "source": [
    "## MJS"
   ]
  },
  {
   "cell_type": "code",
   "execution_count": 158,
   "metadata": {},
   "outputs": [
    {
     "name": "stdout",
     "output_type": "stream",
     "text": [
      "    1417 build/results_mjs.json\r\n"
     ]
    }
   ],
   "source": [
    "!wc -l build/results_mjs.json"
   ]
  },
  {
   "cell_type": "code",
   "execution_count": 159,
   "metadata": {},
   "outputs": [
    {
     "name": "stdout",
     "output_type": "stream",
     "text": [
      "{\"output\": [114, 39, 218, 30, 254, 111], \"cumcoverage\": [\"25.99\", \"17.37\"], \"time\": 3557.4555599689484}\r\n",
      "{\"output\": [83, 89, 54, 53, 75, 12, 115], \"cumcoverage\": [\"25.99\", \"17.37\"], \"time\": 3557.808247089386}\r\n",
      "{\"output\": [86, 122, 119], \"cumcoverage\": [\"25.99\", \"17.37\"], \"time\": 3569.263290166855}\r\n",
      "{\"output\": [71, 122, 37, 51, 77, 13], \"cumcoverage\": [\"25.99\", \"17.37\"], \"time\": 3569.436159133911}\r\n",
      "{\"output\": [50, 11, 109, 121], \"cumcoverage\": [\"25.99\", \"17.37\"], \"time\": 3569.672958135605}\r\n",
      "{\"output\": [118, 72, 61, 49, 43, 115], \"cumcoverage\": [\"25.99\", \"17.37\"], \"time\": 3569.999044895172}\r\n",
      "{\"output\": [104, 115, 106, 50, 75], \"cumcoverage\": [\"25.99\", \"17.37\"], \"time\": 3570.1326401233673}\r\n",
      "{\"output\": [86, 97, 56, 45, 102, 101, 110], \"cumcoverage\": [\"25.99\", \"17.37\"], \"time\": 3570.2902841567993}\r\n",
      "{\"output\": [54], \"cumcoverage\": [\"25.99\", \"17.37\"], \"time\": 3586.4174950122833}\r\n",
      "{\"output\": [102], \"cumcoverage\": [\"25.99\", \"17.37\"], \"time\": 3600.265790939331}\r\n"
     ]
    }
   ],
   "source": [
    "!tail build/results_mjs.json"
   ]
  },
  {
   "cell_type": "markdown",
   "metadata": {},
   "source": [
    "## CJSON"
   ]
  },
  {
   "cell_type": "code",
   "execution_count": 162,
   "metadata": {},
   "outputs": [
    {
     "name": "stdout",
     "output_type": "stream",
     "text": [
      "     403 build/results_cjson.json\r\n"
     ]
    }
   ],
   "source": [
    "!wc -l build/results_cjson.json"
   ]
  },
  {
   "cell_type": "code",
   "execution_count": 163,
   "metadata": {},
   "outputs": [
    {
     "name": "stdout",
     "output_type": "stream",
     "text": [
      "{\"output\": [21, 7, 49, 92], \"cumcoverage\": [\"12.40\", \"11.54\"], \"time\": 3552.505758047104}\r\n",
      "{\"output\": [54, 218, 180, 86], \"cumcoverage\": [\"12.40\", \"11.54\"], \"time\": 3552.668755054474}\r\n",
      "{\"output\": [25, 54, 6, 242, 132], \"cumcoverage\": [\"12.40\", \"11.54\"], \"time\": 3552.8040850162506}\r\n",
      "{\"output\": [13, 1, 49, 32], \"cumcoverage\": [\"12.40\", \"11.54\"], \"time\": 3553.050775051117}\r\n",
      "{\"output\": [11, 15, 7, 52], \"cumcoverage\": [\"12.40\", \"11.54\"], \"time\": 3553.38756108284}\r\n",
      "{\"output\": [3, 9, 9, 30, 17, 26, 20, 32, 20, 28, 19, 3, 10, 51, 23, 47], \"cumcoverage\": [\"12.40\", \"11.54\"], \"time\": 3568.171782016754}\r\n",
      "{\"output\": [52, 225, 37, 36, 20, 131, 137], \"cumcoverage\": [\"12.40\", \"11.54\"], \"time\": 3568.326775789261}\r\n",
      "{\"output\": [56, 102, 135, 77, 56, 206], \"cumcoverage\": [\"12.40\", \"11.54\"], \"time\": 3568.4631309509277}\r\n",
      "{\"output\": [9, 26, 21, 19, 15, 54], \"cumcoverage\": [\"12.40\", \"11.54\"], \"time\": 3568.8934967517853}\r\n",
      "{\"output\": [7, 26, 19, 24, 1, 20, 52, 221, 205, 40], \"cumcoverage\": [\"12.40\", \"11.54\"], \"time\": 3569.2728810310364}\r\n"
     ]
    }
   ],
   "source": [
    "!tail build/results_cjson.json"
   ]
  },
  {
   "cell_type": "markdown",
   "metadata": {},
   "source": [
    "## Final"
   ]
  },
  {
   "cell_type": "code",
   "execution_count": 164,
   "metadata": {},
   "outputs": [],
   "source": [
    "import matplotlib.pyplot as plt"
   ]
  },
  {
   "cell_type": "code",
   "execution_count": 165,
   "metadata": {},
   "outputs": [],
   "source": [
    "def read_cov_data(file_name):\n",
    "    line_a, branch_a, ct_a, o_a = [], [], [], []\n",
    "    with open(file_name) as f:\n",
    "        while True:\n",
    "            v = f.readline()\n",
    "            if v is None: break\n",
    "            if not v: break\n",
    "            r = json.loads(v)\n",
    "            line, branch =  [float(i) for i in r['cumcoverage']]\n",
    "            ct = r['time']\n",
    "            o = bytes(r['output'])\n",
    "            line_a.append(line)\n",
    "            branch_a.append(branch)\n",
    "            ct_a.append(ct)\n",
    "            o_a.append(o)\n",
    "            if ct > 3600: break # maximum 1 hr.\n",
    "    # make sure we have a continuous line (because cumulative.)\n",
    "    line_a.append(line_a[-1])\n",
    "    branch_a.append(branch_a[-1])\n",
    "    ct_a.append(3600)\n",
    "    o_a.append(None)\n",
    "    print(ct_a[-1], ' line:', line_a[-1], 'branch: ', branch_a[-1])\n",
    "    return o_a, ct_a, line_a, branch_a"
   ]
  },
  {
   "cell_type": "code",
   "execution_count": 166,
   "metadata": {},
   "outputs": [],
   "source": [
    "from IPython.display import HTML, display"
   ]
  },
  {
   "cell_type": "code",
   "execution_count": 167,
   "metadata": {},
   "outputs": [],
   "source": [
    "def show_table(keys, autogram, mimid, title, fn):\n",
    "    keys = [k for k in keys if k in autogram and k in mimid and autogram[k] and mimid[k]]\n",
    "    tbl = ['<tr>%s</tr>' % ''.join([\"<th>%s</th>\" % k for k in ['<b>%s</b>' % title,'Autogram', 'Mimid']])]\n",
    "    for k in keys:\n",
    "        h_c = \"<td>%s</td>\" % k\n",
    "        a_c = \"<td>%s</td>\" % fn(autogram.get(k,('',0)))\n",
    "        m_c = \"<td>%s</td>\" % fn(mimid.get(k,('',0)))\n",
    "        tbl.append('<tr>%s</tr>' % ''.join([h_c, a_c, m_c]))\n",
    "    return display(HTML('<table>%s</table>' % '\\n'.join(tbl)))"
   ]
  },
  {
   "cell_type": "code",
   "execution_count": 168,
   "metadata": {},
   "outputs": [],
   "source": [
    "def to_sec(hm):\n",
    "    return {k:((hm[k][1]).seconds, 1) for k in hm if hm[k]}"
   ]
  },
  {
   "cell_type": "code",
   "execution_count": 169,
   "metadata": {},
   "outputs": [],
   "source": [
    "import statistics"
   ]
  },
  {
   "cell_type": "code",
   "execution_count": 170,
   "metadata": {},
   "outputs": [],
   "source": [
    "def stats(lst_):\n",
    "    # remove last\n",
    "    assert lst_[-1] is None\n",
    "    lst = lst_[0:-1]\n",
    "    uniql = list({str(l) for l in lst})\n",
    "    print('Total: ', len(lst))\n",
    "    print('Unique: ', len(uniql))\n",
    "    print('MaxLen: ', max([len(l) for l in uniql]))\n",
    "    print('MinLen: ', min([len(l) for l in uniql]))\n",
    "    print('Mean: ', statistics.mean([len(l) for l in uniql]))"
   ]
  },
  {
   "cell_type": "markdown",
   "metadata": {},
   "source": [
    "### TinyC"
   ]
  },
  {
   "cell_type": "code",
   "execution_count": 171,
   "metadata": {},
   "outputs": [
    {
     "data": {
      "text/plain": [
       "497"
      ]
     },
     "execution_count": 171,
     "metadata": {},
     "output_type": "execute_result"
    }
   ],
   "source": [
    "len(tinyc_lst)"
   ]
  },
  {
   "cell_type": "code",
   "execution_count": 172,
   "metadata": {},
   "outputs": [
    {
     "name": "stdout",
     "output_type": "stream",
     "text": [
      "3600  line: 83.44 branch:  71.65\n"
     ]
    }
   ],
   "source": [
    "tinyc_outputs, tinyc_time, tinyc_line, tinyc_branch = read_cov_data('build/results_tinyc.json')"
   ]
  },
  {
   "cell_type": "code",
   "execution_count": 173,
   "metadata": {},
   "outputs": [
    {
     "name": "stdout",
     "output_type": "stream",
     "text": [
      "Total:  505\n",
      "Unique:  497\n",
      "MaxLen:  464\n",
      "MinLen:  7\n",
      "Mean:  20.603621730382294\n"
     ]
    }
   ],
   "source": [
    "stats(tinyc_outputs)"
   ]
  },
  {
   "cell_type": "code",
   "execution_count": 174,
   "metadata": {},
   "outputs": [
    {
     "name": "stdout",
     "output_type": "stream",
     "text": [
      "3600  line: 87.82 branch:  73.23\n"
     ]
    }
   ],
   "source": [
    "ptinyc_outputs, ptinyc_time, ptinyc_line, ptinyc_branch = read_cov_data('pfuzzer/results_tiny.json')"
   ]
  },
  {
   "cell_type": "code",
   "execution_count": 175,
   "metadata": {},
   "outputs": [
    {
     "name": "stdout",
     "output_type": "stream",
     "text": [
      "Total:  9\n",
      "Unique:  9\n",
      "MaxLen:  16\n",
      "MinLen:  5\n",
      "Mean:  10.222222222222221\n"
     ]
    }
   ],
   "source": [
    "stats(ptinyc_outputs)"
   ]
  },
  {
   "cell_type": "code",
   "execution_count": 176,
   "metadata": {},
   "outputs": [
    {
     "data": {
      "image/png": "[encoded data removed]",
      "text/plain": [
       "<Figure size 432x288 with 1 Axes>"
      ]
     },
     "metadata": {
      "needs_background": "light"
     },
     "output_type": "display_data"
    }
   ],
   "source": [
    "plt.plot(tinyc_time, tinyc_line, label='bFuzzer')\n",
    "plt.plot(ptinyc_time, ptinyc_line, label='pFuzzer')\n",
    "plt.ylabel('Statement')\n",
    "plt.xlabel('Time')\n",
    "#plt.title('TinyC Cumulative Statement Coverage')\n",
    "plt.axis([0, 3600, 0, 100]) \n",
    "plt.legend()\n",
    "zoom(plt, 'tinyc-s')"
   ]
  },
  {
   "cell_type": "code",
   "execution_count": 177,
   "metadata": {},
   "outputs": [
    {
     "data": {
      "image/png": "[encoded data removed]",
      "text/plain": [
       "<Figure size 432x288 with 1 Axes>"
      ]
     },
     "metadata": {
      "needs_background": "light"
     },
     "output_type": "display_data"
    }
   ],
   "source": [
    "plt.plot(tinyc_time, tinyc_branch, label='bFuzzer')\n",
    "plt.plot(ptinyc_time, ptinyc_branch, label='pFuzzer')\n",
    "plt.ylabel('Branch')\n",
    "plt.xlabel('Time')\n",
    "#plt.title('TinyC Cumulative Branch Coverage')\n",
    "plt.axis([0, 3600, 0, 100])\n",
    "plt.legend()\n",
    "zoom(plt, 'tinyc-b')"
   ]
  },
  {
   "cell_type": "markdown",
   "metadata": {},
   "source": [
    "### Ini"
   ]
  },
  {
   "cell_type": "code",
   "execution_count": 178,
   "metadata": {},
   "outputs": [
    {
     "data": {
      "text/plain": [
       "177"
      ]
     },
     "execution_count": 178,
     "metadata": {},
     "output_type": "execute_result"
    }
   ],
   "source": [
    "len(ini_lst)"
   ]
  },
  {
   "cell_type": "code",
   "execution_count": 179,
   "metadata": {},
   "outputs": [
    {
     "name": "stdout",
     "output_type": "stream",
     "text": [
      "3600  line: 75.38 branch:  57.69\n"
     ]
    }
   ],
   "source": [
    "ini_outputs, ini_time, ini_line, ini_branch = read_cov_data('build/results_ini.json')"
   ]
  },
  {
   "cell_type": "code",
   "execution_count": 180,
   "metadata": {},
   "outputs": [
    {
     "name": "stdout",
     "output_type": "stream",
     "text": [
      "Total:  183\n",
      "Unique:  177\n",
      "MaxLen:  520\n",
      "MinLen:  4\n",
      "Mean:  133.71186440677965\n"
     ]
    }
   ],
   "source": [
    "stats(ini_outputs)"
   ]
  },
  {
   "cell_type": "code",
   "execution_count": 181,
   "metadata": {},
   "outputs": [
    {
     "name": "stdout",
     "output_type": "stream",
     "text": [
      "3600  line: 76.15 branch:  58.97\n"
     ]
    }
   ],
   "source": [
    "pini_outputs, pini_time, pini_line, pini_branch = read_cov_data('pfuzzer/results_ini.json')"
   ]
  },
  {
   "cell_type": "code",
   "execution_count": 182,
   "metadata": {},
   "outputs": [
    {
     "name": "stdout",
     "output_type": "stream",
     "text": [
      "Total:  8\n",
      "Unique:  8\n",
      "MaxLen:  7\n",
      "MinLen:  4\n",
      "Mean:  5\n"
     ]
    }
   ],
   "source": [
    "stats(pini_outputs)"
   ]
  },
  {
   "cell_type": "code",
   "execution_count": 183,
   "metadata": {},
   "outputs": [
    {
     "data": {
      "image/png": "[encoded data removed]",
      "text/plain": [
       "<Figure size 432x288 with 1 Axes>"
      ]
     },
     "metadata": {
      "needs_background": "light"
     },
     "output_type": "display_data"
    }
   ],
   "source": [
    "plt.plot(ini_time, ini_line, label='bFuzzer')\n",
    "plt.plot(pini_time, pini_line, label='pFuzzer')\n",
    "plt.ylabel('Statement')\n",
    "plt.xlabel('Time')\n",
    "#plt.title('INI Cumulative Statement Coverage')\n",
    "plt.axis([0, 3600, 0, 100])\n",
    "plt.legend()\n",
    "zoom(plt, 'ini-s')"
   ]
  },
  {
   "cell_type": "code",
   "execution_count": 184,
   "metadata": {},
   "outputs": [
    {
     "data": {
      "image/png": "[encoded data removed]",
      "text/plain": [
       "<Figure size 432x288 with 1 Axes>"
      ]
     },
     "metadata": {
      "needs_background": "light"
     },
     "output_type": "display_data"
    }
   ],
   "source": [
    "plt.plot(ini_time, ini_branch, label='bFuzzer')\n",
    "plt.plot(pini_time, pini_branch, label='pFuzzer')\n",
    "plt.ylabel('Branch')\n",
    "plt.xlabel('Time')\n",
    "#plt.title('INI Cumulative Branch Coverage')\n",
    "plt.axis([0, 3600, 0, 100]) \n",
    "plt.legend()\n",
    "zoom(plt, 'ini-b')"
   ]
  },
  {
   "cell_type": "markdown",
   "metadata": {},
   "source": [
    "### CSV"
   ]
  },
  {
   "cell_type": "code",
   "execution_count": 185,
   "metadata": {},
   "outputs": [
    {
     "data": {
      "text/plain": [
       "33528"
      ]
     },
     "execution_count": 185,
     "metadata": {},
     "output_type": "execute_result"
    }
   ],
   "source": [
    "len(csv_lst)"
   ]
  },
  {
   "cell_type": "code",
   "execution_count": 186,
   "metadata": {},
   "outputs": [
    {
     "name": "stdout",
     "output_type": "stream",
     "text": [
      "3600  line: 66.97 branch:  58.33\n"
     ]
    }
   ],
   "source": [
    "csv_outputs, csv_time, csv_line, csv_branch = read_cov_data('build/results_csv.json')"
   ]
  },
  {
   "cell_type": "code",
   "execution_count": 187,
   "metadata": {},
   "outputs": [
    {
     "name": "stdout",
     "output_type": "stream",
     "text": [
      "Total:  33528\n",
      "Unique:  33528\n",
      "MaxLen:  43\n",
      "MinLen:  7\n",
      "Mean:  16.98914340252923\n"
     ]
    }
   ],
   "source": [
    "stats(csv_outputs)"
   ]
  },
  {
   "cell_type": "code",
   "execution_count": 188,
   "metadata": {},
   "outputs": [
    {
     "name": "stdout",
     "output_type": "stream",
     "text": [
      "3600  line: 66.97 branch:  58.33\n"
     ]
    }
   ],
   "source": [
    "pcsv_outputs, pcsv_time, pcsv_line, pcsv_branch = read_cov_data('pfuzzer/results_csvparser.json')"
   ]
  },
  {
   "cell_type": "code",
   "execution_count": 189,
   "metadata": {},
   "outputs": [
    {
     "name": "stdout",
     "output_type": "stream",
     "text": [
      "Total:  9\n",
      "Unique:  9\n",
      "MaxLen:  15\n",
      "MinLen:  4\n",
      "Mean:  6.666666666666667\n"
     ]
    }
   ],
   "source": [
    "stats(pcsv_outputs)"
   ]
  },
  {
   "cell_type": "code",
   "execution_count": 190,
   "metadata": {},
   "outputs": [
    {
     "data": {
      "image/png": "[encoded data removed]",
      "text/plain": [
       "<Figure size 432x288 with 1 Axes>"
      ]
     },
     "metadata": {
      "needs_background": "light"
     },
     "output_type": "display_data"
    }
   ],
   "source": [
    "plt.plot(csv_time, csv_line, label='bFuzzer')\n",
    "plt.plot(pcsv_time, pcsv_line, label='pFuzzer')\n",
    "plt.ylabel('Statement')\n",
    "plt.xlabel('Time')\n",
    "#plt.title('CSV Cumulative Statement Coverage')\n",
    "plt.axis([0, 3600, 0, 100])\n",
    "plt.legend()\n",
    "zoom(plt, 'csv-s')"
   ]
  },
  {
   "cell_type": "code",
   "execution_count": 191,
   "metadata": {},
   "outputs": [
    {
     "data": {
      "image/png": "[encoded data removed]",
      "text/plain": [
       "<Figure size 432x288 with 1 Axes>"
      ]
     },
     "metadata": {
      "needs_background": "light"
     },
     "output_type": "display_data"
    }
   ],
   "source": [
    "plt.plot(csv_time, csv_branch, label='bFuzzer')\n",
    "plt.plot(pcsv_time, pcsv_branch, label='pFuzzer')\n",
    "plt.ylabel('Branch')\n",
    "plt.xlabel('Time')\n",
    "#plt.title('CSV Cumulative Branch Coverage')\n",
    "plt.axis([0, 3600, 0, 100])\n",
    "plt.legend()\n",
    "zoom(plt, 'csv-b')"
   ]
  },
  {
   "cell_type": "markdown",
   "metadata": {},
   "source": [
    "### MJS"
   ]
  },
  {
   "cell_type": "code",
   "execution_count": 192,
   "metadata": {},
   "outputs": [
    {
     "data": {
      "text/plain": [
       "1398"
      ]
     },
     "execution_count": 192,
     "metadata": {},
     "output_type": "execute_result"
    }
   ],
   "source": [
    "len(mjs_lst)"
   ]
  },
  {
   "cell_type": "code",
   "execution_count": 193,
   "metadata": {},
   "outputs": [
    {
     "name": "stdout",
     "output_type": "stream",
     "text": [
      "3600  line: 25.99 branch:  17.37\n"
     ]
    }
   ],
   "source": [
    "mjs_outputs, mjs_time, mjs_line, mjs_branch = read_cov_data('build/results_mjs.json')"
   ]
  },
  {
   "cell_type": "code",
   "execution_count": 194,
   "metadata": {},
   "outputs": [
    {
     "name": "stdout",
     "output_type": "stream",
     "text": [
      "Total:  1417\n",
      "Unique:  1398\n",
      "MaxLen:  102\n",
      "MinLen:  4\n",
      "Mean:  9.46065808297568\n"
     ]
    }
   ],
   "source": [
    "stats(mjs_outputs)"
   ]
  },
  {
   "cell_type": "code",
   "execution_count": 195,
   "metadata": {},
   "outputs": [
    {
     "name": "stdout",
     "output_type": "stream",
     "text": [
      "3600  line: 21.18 branch:  11.96\n"
     ]
    }
   ],
   "source": [
    "pmjs_outputs, pmjs_time, pmjs_line, pmjs_branch = read_cov_data('pfuzzer/results_mjs.json')"
   ]
  },
  {
   "cell_type": "code",
   "execution_count": 196,
   "metadata": {},
   "outputs": [
    {
     "name": "stdout",
     "output_type": "stream",
     "text": [
      "Total:  16\n",
      "Unique:  16\n",
      "MaxLen:  28\n",
      "MinLen:  4\n",
      "Mean:  7\n"
     ]
    }
   ],
   "source": [
    "stats(pmjs_outputs)"
   ]
  },
  {
   "cell_type": "code",
   "execution_count": 197,
   "metadata": {},
   "outputs": [
    {
     "data": {
      "image/png": "[encoded data removed]",
      "text/plain": [
       "<Figure size 432x288 with 1 Axes>"
      ]
     },
     "metadata": {
      "needs_background": "light"
     },
     "output_type": "display_data"
    }
   ],
   "source": [
    "plt.plot(mjs_time, mjs_line, label='bFuzzer')\n",
    "plt.plot(pmjs_time, pmjs_line, label='pFuzzer')\n",
    "plt.ylabel('Statement')\n",
    "plt.xlabel('Time')\n",
    "#plt.title('MJS Cumulative Statement Coverage')\n",
    "plt.axis([0, 3600, 0, 100])\n",
    "plt.legend()\n",
    "zoom(plt, 'mjs-s')"
   ]
  },
  {
   "cell_type": "code",
   "execution_count": 198,
   "metadata": {},
   "outputs": [
    {
     "data": {
      "image/png": "[encoded data removed]",
      "text/plain": [
       "<Figure size 432x288 with 1 Axes>"
      ]
     },
     "metadata": {
      "needs_background": "light"
     },
     "output_type": "display_data"
    }
   ],
   "source": [
    "plt.plot(mjs_time, mjs_branch, label='bFuzzer')\n",
    "plt.plot(pmjs_time, pmjs_branch, label='pFuzzer')\n",
    "plt.ylabel('Branch')\n",
    "plt.xlabel('Time')\n",
    "#plt.title('MJS Cumulative Branch Coverage')\n",
    "plt.axis([0, 3600, 0, 100])\n",
    "plt.legend()\n",
    "zoom(plt, 'mjs-b')"
   ]
  },
  {
   "cell_type": "markdown",
   "metadata": {},
   "source": [
    "### CJSON"
   ]
  },
  {
   "cell_type": "code",
   "execution_count": 199,
   "metadata": {},
   "outputs": [
    {
     "data": {
      "text/plain": [
       "403"
      ]
     },
     "execution_count": 199,
     "metadata": {},
     "output_type": "execute_result"
    }
   ],
   "source": [
    "len(cjson_lst)"
   ]
  },
  {
   "cell_type": "code",
   "execution_count": 200,
   "metadata": {},
   "outputs": [
    {
     "name": "stdout",
     "output_type": "stream",
     "text": [
      "3600  line: 12.4 branch:  11.54\n"
     ]
    }
   ],
   "source": [
    "cjson_outputs, cjson_time, cjson_line, cjson_branch = read_cov_data('build/results_cjson.json')"
   ]
  },
  {
   "cell_type": "code",
   "execution_count": 201,
   "metadata": {},
   "outputs": [
    {
     "name": "stdout",
     "output_type": "stream",
     "text": [
      "Total:  403\n",
      "Unique:  403\n",
      "MaxLen:  435\n",
      "MinLen:  7\n",
      "Mean:  23.622828784119108\n"
     ]
    }
   ],
   "source": [
    "stats(cjson_outputs)"
   ]
  },
  {
   "cell_type": "code",
   "execution_count": 202,
   "metadata": {},
   "outputs": [
    {
     "name": "stdout",
     "output_type": "stream",
     "text": [
      "3600  line: 14.78 branch:  14.76\n"
     ]
    }
   ],
   "source": [
    "pcjson_outputs, pcjson_time, pcjson_line, pcjson_branch = read_cov_data('pfuzzer/results_cjson.json')"
   ]
  },
  {
   "cell_type": "code",
   "execution_count": 203,
   "metadata": {},
   "outputs": [
    {
     "name": "stdout",
     "output_type": "stream",
     "text": [
      "Total:  15\n",
      "Unique:  15\n",
      "MaxLen:  17\n",
      "MinLen:  4\n",
      "Mean:  9.133333333333333\n"
     ]
    }
   ],
   "source": [
    "stats(pcjson_outputs)"
   ]
  },
  {
   "cell_type": "code",
   "execution_count": 204,
   "metadata": {},
   "outputs": [
    {
     "data": {
      "image/png": "[encoded data removed]",
      "text/plain": [
       "<Figure size 432x288 with 1 Axes>"
      ]
     },
     "metadata": {
      "needs_background": "light"
     },
     "output_type": "display_data"
    }
   ],
   "source": [
    "plt.plot(cjson_time, cjson_line, label='bFuzzer')\n",
    "plt.plot(pcjson_time, pcjson_line, label='pFuzzer')\n",
    "plt.ylabel('Statement')\n",
    "plt.xlabel('Time')\n",
    "#plt.title('CJSON Cumulative Statement Coverage')\n",
    "plt.axis([0, 3600, 0, 100])\n",
    "plt.legend()\n",
    "zoom(plt, 'cjson-s')"
   ]
  },
  {
   "cell_type": "code",
   "execution_count": 205,
   "metadata": {},
   "outputs": [
    {
     "data": {
      "image/png": "[encoded data removed]",
      "text/plain": [
       "<Figure size 432x288 with 1 Axes>"
      ]
     },
     "metadata": {
      "needs_background": "light"
     },
     "output_type": "display_data"
    }
   ],
   "source": [
    "plt.plot(cjson_time, cjson_branch, label='bFuzzer')\n",
    "plt.plot(pcjson_time, pcjson_branch, label='pFuzzer')\n",
    "plt.ylabel('Branch')\n",
    "plt.xlabel('Time')\n",
    "#plt.title('CJSON Cumulative Branch Coverage')\n",
    "plt.axis([0, 3600, 0, 100]) \n",
    "plt.legend()\n",
    "zoom(plt, 'cjson-b')"
   ]
  }
 ],
 "metadata": {
  "kernelspec": {
   "display_name": "Python 3",
   "language": "python",
   "name": "python3"
  },
  "language_info": {
   "codemirror_mode": {
    "name": "ipython",
    "version": 3
   },
   "file_extension": ".py",
   "mimetype": "text/x-python",
   "name": "python",
   "nbconvert_exporter": "python",
   "pygments_lexer": "ipython3",
   "version": "3.6.8"
  },
  "toc": {
   "base_numbering": 1,
   "nav_menu": {},
   "number_sections": true,
   "sideBar": true,
   "skip_h1_title": false,
   "title_cell": "Table of Contents",
   "title_sidebar": "Contents",
   "toc_cell": false,
   "toc_position": {
    "height": "calc(100% - 180px)",
    "left": "10px",
    "top": "150px",
    "width": "333px"
   },
   "toc_section_display": true,
   "toc_window_display": true
  }
 },
 "nbformat": 4,
 "nbformat_minor": 4
}
