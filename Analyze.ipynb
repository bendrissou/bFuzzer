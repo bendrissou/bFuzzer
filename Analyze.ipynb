{
 "cells": [
  {
   "cell_type": "markdown",
   "metadata": {},
   "source": [
    "# BFuzzer"
   ]
  },
  {
   "cell_type": "markdown",
   "metadata": {},
   "source": [
    "Some magick before we get started.\n",
    "* %top and %%top are magicks for line and cell respectively that can be used to disable the evaluation when the notebook is exported.\n",
    "* %%var is used to extract contents of the cell to `$VARS` variable."
   ]
  },
  {
   "cell_type": "code",
   "execution_count": 1,
   "metadata": {},
   "outputs": [],
   "source": [
    "TOP = True"
   ]
  },
  {
   "cell_type": "code",
   "execution_count": 2,
   "metadata": {},
   "outputs": [],
   "source": [
    "from IPython.core.magic import  (Magics, magics_class, cell_magic, line_magic, line_cell_magic)\n",
    "class B(dict):\n",
    "    def __getattr__(self, name):\n",
    "        return self.__getitem__(name)\n",
    "@magics_class\n",
    "class MyMagics(Magics):\n",
    "    def __init__(self, shell=None,  **kwargs):\n",
    "        super().__init__(shell=shell, **kwargs)\n",
    "        self._vars = B()\n",
    "        shell.user_ns['VARS'] = self._vars\n",
    "\n",
    "    @cell_magic\n",
    "    def var(self, line, cell):\n",
    "        self._vars[line.strip()] = cell.strip()\n",
    " \n",
    "    @line_cell_magic\n",
    "    def top(self, line, cell=None):\n",
    "        if TOP:\n",
    "            if cell is None:\n",
    "                cell = line\n",
    "            ip = get_ipython()\n",
    "            res = ip.run_cell(cell)\n",
    "\n",
    "get_ipython().register_magics(MyMagics)"
   ]
  },
  {
   "cell_type": "markdown",
   "metadata": {},
   "source": [
    "This notebook has only been tested in the specific Python versions below."
   ]
  },
  {
   "cell_type": "code",
   "execution_count": 3,
   "metadata": {},
   "outputs": [],
   "source": [
    "import sys"
   ]
  },
  {
   "cell_type": "code",
   "execution_count": 4,
   "metadata": {},
   "outputs": [],
   "source": [
    "%top assert sys.version_info[0:2] in [(3, 6)]"
   ]
  },
  {
   "cell_type": "markdown",
   "metadata": {},
   "source": [
    "Jupyter has the bad habit of continuing the execution sometimes after an exception has happened. This variable tells us if any exception has happened until now."
   ]
  },
  {
   "cell_type": "code",
   "execution_count": 5,
   "metadata": {},
   "outputs": [],
   "source": [
    "EXCEPTION_HAPPENED = []"
   ]
  },
  {
   "cell_type": "code",
   "execution_count": 6,
   "metadata": {},
   "outputs": [],
   "source": [
    "%top IP = get_ipython()"
   ]
  },
  {
   "cell_type": "code",
   "execution_count": 7,
   "metadata": {},
   "outputs": [],
   "source": [
    "from IPython.core.ultratb import AutoFormattedTB\n",
    "itb = AutoFormattedTB(mode = 'Plain', tb_offset = 1)\n",
    "def custom_exc(shell, etype, evalue, tb, tb_offset=None):\n",
    "    global EXCEPTION_HAPPENED\n",
    "    EXCEPTION_HAPPENED.append(IP.last_execution_result.execution_count + 1)\n",
    "    shell.showtraceback((etype, evalue, tb), tb_offset=tb_offset)"
   ]
  },
  {
   "cell_type": "code",
   "execution_count": 8,
   "metadata": {},
   "outputs": [],
   "source": [
    "%top IP.set_custom_exc((Exception,), custom_exc)"
   ]
  },
  {
   "cell_type": "markdown",
   "metadata": {},
   "source": [
    "## Do"
   ]
  },
  {
   "cell_type": "markdown",
   "metadata": {},
   "source": [
    "Next, we define a wrapper for command execution."
   ]
  },
  {
   "cell_type": "code",
   "execution_count": 9,
   "metadata": {},
   "outputs": [],
   "source": [
    "import subprocess\n",
    "import os\n",
    "import json"
   ]
  },
  {
   "cell_type": "markdown",
   "metadata": {},
   "source": [
    "The `do()` command executes and saves return code, stdin and stderr."
   ]
  },
  {
   "cell_type": "code",
   "execution_count": 10,
   "metadata": {},
   "outputs": [],
   "source": [
    "class O:\n",
    "    def __init__(self, **keys): self.__dict__.update(keys)\n",
    "    def __repr__(self): return str(self.__dict__)"
   ]
  },
  {
   "cell_type": "code",
   "execution_count": 11,
   "metadata": {},
   "outputs": [],
   "source": [
    "def do(command, env=None, shell=False, log=False, **args):\n",
    "    result = subprocess.Popen(command, stdout=subprocess.PIPE, stderr = subprocess.PIPE,\n",
    "                              shell=shell,\n",
    "                              env=dict(os.environ, **({} if env is None else env))\n",
    "                             )\n",
    "    stdout, stderr = result.communicate(timeout=10)\n",
    "    os.makedirs('build', exist_ok=True)\n",
    "    code = result.returncode\n",
    "    ecode = ((256-code) * -1) if code > 127 else code\n",
    "    if log:\n",
    "        with open('build/do.log', 'a+') as f:\n",
    "            print(json.dumps({'cmd':command, 'env':env, 'exitcode':ecode, 'ocode':code}), env, file=f)\n",
    "    return O(cmd=command,returncode=ecode, ocode=result.returncode, stdout=stdout, stderr=stderr)"
   ]
  },
  {
   "cell_type": "markdown",
   "metadata": {},
   "source": [
    "#### Extract Status"
   ]
  },
  {
   "cell_type": "code",
   "execution_count": 12,
   "metadata": {},
   "outputs": [],
   "source": [
    "def logit(v):\n",
    "    print(v, file=sys.stderr)"
   ]
  },
  {
   "cell_type": "code",
   "execution_count": 13,
   "metadata": {},
   "outputs": [],
   "source": [
    "import random"
   ]
  },
  {
   "cell_type": "markdown",
   "metadata": {},
   "source": [
    "# Experiments"
   ]
  },
  {
   "cell_type": "markdown",
   "metadata": {},
   "source": [
    "## PFuzzer"
   ]
  },
  {
   "cell_type": "markdown",
   "metadata": {},
   "source": [
    "First, we regenrate the data files for `pFuzzer`."
   ]
  },
  {
   "cell_type": "code",
   "execution_count": 14,
   "metadata": {},
   "outputs": [
    {
     "name": "stdout",
     "output_type": "stream",
     "text": [
      "find . -name __pycache__ -type d -print0 -prune | xargs -0 -- rm -r\n",
      "for i in examples/cjson/ examples/csv/ examples/ini/ examples/mjs/ examples/tiny/; do (cd $i; make clean); done\n",
      "rm -rf *.o cjson __pycache__/ *.gcda *.gcno build *.cov* *.dSYM\n",
      "rm -rf *.o csvparser __pycache__/ *.gcda *.gcno build *.cov* *.dSYM\n",
      "rm -rf *.o ini __pycache__/ *.gcda *.gcno build *.cov* *.dSYM\n",
      "rm -rf *.o mjs __pycache__/ *.gcda *.gcno build *.cov* *.dSYM\n",
      "rm -rf *.o tiny __pycache__/ *.gcda *.gcno build *.cov* *.dSYM\n",
      "rm -rf examples/results_*.json\n"
     ]
    }
   ],
   "source": [
    "!make clean"
   ]
  },
  {
   "cell_type": "markdown",
   "metadata": {},
   "source": [
    "Now, we are ready to do the bFuzzer experiments."
   ]
  },
  {
   "cell_type": "code",
   "execution_count": 15,
   "metadata": {},
   "outputs": [],
   "source": [
    "from datetime import datetime"
   ]
  },
  {
   "cell_type": "code",
   "execution_count": 16,
   "metadata": {},
   "outputs": [],
   "source": [
    "from IPython.display import Image"
   ]
  },
  {
   "cell_type": "code",
   "execution_count": 17,
   "metadata": {},
   "outputs": [],
   "source": [
    "from io import BytesIO"
   ]
  },
  {
   "cell_type": "code",
   "execution_count": 18,
   "metadata": {},
   "outputs": [],
   "source": [
    "def zoom(v, fname=None):\n",
    "    # return v directly if you do not want to zoom out.\n",
    "    assert v is not None\n",
    "    if zoom:\n",
    "        figfile = BytesIO()\n",
    "        v.savefig(figfile, format='svg')\n",
    "        Image(figfile.getvalue())\n",
    "        if fname is None: fname = 'myfile'\n",
    "        with open('%s.svg' % fname, 'wb+') as f:\n",
    "            f.write(figfile.getvalue())\n",
    "        return \n",
    "    return v"
   ]
  },
  {
   "cell_type": "code",
   "execution_count": 19,
   "metadata": {},
   "outputs": [],
   "source": [
    "import time\n",
    "from datetime import timedelta, datetime"
   ]
  },
  {
   "cell_type": "code",
   "execution_count": 20,
   "metadata": {},
   "outputs": [],
   "source": [
    "time_to_run = 3600"
   ]
  },
  {
   "cell_type": "markdown",
   "metadata": {},
   "source": [
    "### TinyC"
   ]
  },
  {
   "cell_type": "code",
   "execution_count": 21,
   "metadata": {},
   "outputs": [],
   "source": [
    "def logit(v):\n",
    "    ..."
   ]
  },
  {
   "cell_type": "code",
   "execution_count": 22,
   "metadata": {},
   "outputs": [
    {
     "name": "stdout",
     "output_type": "stream",
     "text": [
      "gcc -g -o tiny tiny.c\n",
      "\u001b[1mtiny.c:164:49: \u001b[0m\u001b[0;1;35mwarning: \u001b[0m\u001b[1madd explicit braces to avoid dangling else\n",
      "      [-Wdangling-else]\u001b[0m\n",
      "              if (id_name[1] == '\\0') sym = ID; else syntax_error_ch();\n",
      "\u001b[0;1;32m                                                ^\n",
      "\u001b[0m1 warning generated.\n",
      "gcc -fprofile-arcs -ftest-coverage -g -o tiny.cov tiny.c\n",
      "\u001b[1mtiny.c:164:49: \u001b[0m\u001b[0;1;35mwarning: \u001b[0m\u001b[1madd explicit braces to avoid dangling else\n",
      "      [-Wdangling-else]\u001b[0m\n",
      "              if (id_name[1] == '\\0') sym = ID; else syntax_error_ch();\n",
      "\u001b[0;1;32m                                                ^\n",
      "\u001b[0m1 warning generated.\n"
     ]
    }
   ],
   "source": [
    "!(cd examples/tiny; make clean; make)"
   ]
  },
  {
   "cell_type": "code",
   "execution_count": 23,
   "metadata": {},
   "outputs": [],
   "source": [
    "!python3 convert_validtxt.py data/pfuzzer/tinyc.txt > data/pfuzzer/tinyc.py"
   ]
  },
  {
   "cell_type": "code",
   "execution_count": 24,
   "metadata": {},
   "outputs": [
    {
     "name": "stdout",
     "output_type": "stream",
     "text": [
      "(2, ('88.24', '72.22'))\r\n"
     ]
    }
   ],
   "source": [
    "!python3 check_inputs.py examples/tiny/tiny.cov data/pfuzzer/tinyc.py"
   ]
  },
  {
   "cell_type": "code",
   "execution_count": 26,
   "metadata": {},
   "outputs": [],
   "source": [
    "!mv examples/results_tiny.json data/pfuzzer_tiny.json"
   ]
  },
  {
   "cell_type": "markdown",
   "metadata": {},
   "source": [
    "### Ini"
   ]
  },
  {
   "cell_type": "code",
   "execution_count": 27,
   "metadata": {},
   "outputs": [
    {
     "name": "stdout",
     "output_type": "stream",
     "text": [
      "rm -rf *.o ini __pycache__/ *.gcda *.gcno build *.cov* *.dSYM\n",
      "gcc -g -o ini ini.c\n",
      "gcc -fprofile-arcs -ftest-coverage -g -o ini.cov ini.c\n"
     ]
    }
   ],
   "source": [
    "!(cd examples/ini; make clean; make)"
   ]
  },
  {
   "cell_type": "code",
   "execution_count": 28,
   "metadata": {},
   "outputs": [],
   "source": [
    "!python3 convert_validtxt.py data/pfuzzer/ini.txt > data/pfuzzer/ini.py"
   ]
  },
  {
   "cell_type": "code",
   "execution_count": 29,
   "metadata": {},
   "outputs": [
    {
     "name": "stdout",
     "output_type": "stream",
     "text": [
      "(5, ('75.56', '56.10'))\r\n"
     ]
    }
   ],
   "source": [
    "!python3 check_inputs.py examples/ini/ini.cov data/pfuzzer/ini.py"
   ]
  },
  {
   "cell_type": "code",
   "execution_count": 30,
   "metadata": {},
   "outputs": [],
   "source": [
    "!mv examples/results_ini.json data/pfuzzer_ini.json"
   ]
  },
  {
   "cell_type": "markdown",
   "metadata": {},
   "source": [
    "### CSV"
   ]
  },
  {
   "cell_type": "code",
   "execution_count": 129,
   "metadata": {},
   "outputs": [
    {
     "name": "stdout",
     "output_type": "stream",
     "text": [
      "rm -rf *.o csvparser __pycache__/ *.gcda *.gcno build *.cov* *.dSYM\n",
      "gcc -g -o csvparser csvparser.c\n",
      "gcc -fprofile-arcs -ftest-coverage -g -o csvparser.cov csvparser.c\n"
     ]
    }
   ],
   "source": [
    "!(cd examples/csv; make clean; make)"
   ]
  },
  {
   "cell_type": "code",
   "execution_count": 130,
   "metadata": {},
   "outputs": [],
   "source": [
    "!python3 convert_validtxt.py data/pfuzzer/csv.txt > data/pfuzzer/csv.py"
   ]
  },
  {
   "cell_type": "code",
   "execution_count": 131,
   "metadata": {},
   "outputs": [
    {
     "name": "stdout",
     "output_type": "stream",
     "text": [
      "(8, ('67.26', '58.04'))\r\n"
     ]
    }
   ],
   "source": [
    "!python3 check_inputs.py examples/csv/csvparser.cov data/pfuzzer/csv.py"
   ]
  },
  {
   "cell_type": "code",
   "execution_count": 133,
   "metadata": {},
   "outputs": [],
   "source": [
    "!mv examples/results_csvparser.json data/pfuzzer_csv.json"
   ]
  },
  {
   "cell_type": "markdown",
   "metadata": {},
   "source": [
    "### MJS"
   ]
  },
  {
   "cell_type": "code",
   "execution_count": 36,
   "metadata": {},
   "outputs": [
    {
     "name": "stdout",
     "output_type": "stream",
     "text": [
      "rm -rf *.o mjs __pycache__/ *.gcda *.gcno build *.cov* *.dSYM\n",
      "gcc -g -o mjs mjs.c -ldl \n",
      "gcc -fprofile-arcs -ftest-coverage -g -o mjs.cov mjs.c -ldl \n",
      "#gcc -Wl,--no-as-needed -ldl -fprofile-arcs -ftest-coverage -g -o mjs.cov mjs.c\n"
     ]
    }
   ],
   "source": [
    "!(cd examples/mjs; make clean; make)"
   ]
  },
  {
   "cell_type": "code",
   "execution_count": 37,
   "metadata": {},
   "outputs": [],
   "source": [
    "!python3 convert_validtxt.py data/pfuzzer/mjs.txt > data/pfuzzer/mjs.py"
   ]
  },
  {
   "cell_type": "code",
   "execution_count": 38,
   "metadata": {},
   "outputs": [
    {
     "name": "stdout",
     "output_type": "stream",
     "text": [
      "(7, ('20.96', '10.02'))\r\n"
     ]
    }
   ],
   "source": [
    "!python3 check_inputs.py examples/mjs/mjs.cov data/pfuzzer/mjs.py"
   ]
  },
  {
   "cell_type": "code",
   "execution_count": 39,
   "metadata": {},
   "outputs": [],
   "source": [
    "!mv examples/results_mjs.json data/pfuzzer_mjs.json"
   ]
  },
  {
   "cell_type": "markdown",
   "metadata": {},
   "source": [
    "### CJSON"
   ]
  },
  {
   "cell_type": "code",
   "execution_count": 40,
   "metadata": {},
   "outputs": [
    {
     "name": "stdout",
     "output_type": "stream",
     "text": [
      "rm -rf *.o cjson __pycache__/ *.gcda *.gcno build *.cov* *.dSYM\n",
      "gcc -g -o cjson cJSON.c\n",
      "\u001b[1mcJSON.c:721:47: \u001b[0m\u001b[0;1;35mwarning: \u001b[0m\u001b[1mcomparison between pointer and integer ('unsigned char'\n",
      "      and 'void *') [-Wpointer-integer-compare]\u001b[0m\n",
      "        if (buffer_at_offset(input_buffer)[0] == NULL)\n",
      "\u001b[0;1;32m            ~~~~~~~~~~~~~~~~~~~~~~~~~~~~~~~~~ ^  ~~~~\n",
      "\u001b[0m\u001b[1mcJSON.c:1243:87: \u001b[0m\u001b[0;1;35mwarning: \u001b[0m\u001b[1mcomparison between pointer and integer\n",
      "      ('unsigned char' and 'void *') [-Wpointer-integer-compare]\u001b[0m\n",
      "  ...0) || (buffer_at_offset(input_buffer)[0] == NULL))\n",
      "\u001b[0;1;32m            ~~~~~~~~~~~~~~~~~~~~~~~~~~~~~~~~~ ^  ~~~~\n",
      "\u001b[0m\u001b[1mcJSON.c:1274:20: \u001b[0m\u001b[0;1;35mwarning: \u001b[0m\u001b[1minitializing 'unsigned char *' with an expression of\n",
      "      type 'char *' converts between pointers to integer types with different\n",
      "      sign [-Wpointer-sign]\u001b[0m\n",
      "    unsigned char* curr_token = (char*)buffer_at_offset(input_buffer);\n",
      "\u001b[0;1;32m                   ^            ~~~~~~~~~~~~~~~~~~~~~~~~~~~~~~~~~~~~~\n",
      "\u001b[0m\u001b[1mcJSON.c:1275:32: \u001b[0m\u001b[0;1;35mwarning: \u001b[0m\u001b[1mpassing 'unsigned char *' to parameter of type\n",
      "      'char *' converts between pointers to integer types with different sign\n",
      "      [-Wpointer-sign]\u001b[0m\n",
      "    int is_token = check_token(curr_token);\n",
      "\u001b[0;1;32m                               ^~~~~~~~~~\n",
      "\u001b[0m\u001b[1mcJSON.c:56:23: \u001b[0m\u001b[0;1;30mnote: \u001b[0mpassing argument to parameter 'str' here\u001b[0m\n",
      "int check_token(char* str) {\n",
      "\u001b[0;1;32m                      ^\n",
      "\u001b[0m\u001b[1mcJSON.c:1460:47: \u001b[0m\u001b[0;1;35mwarning: \u001b[0m\u001b[1mcomparison between pointer and integer\n",
      "      ('unsigned char' and 'void *') [-Wpointer-integer-compare]\u001b[0m\n",
      "        if (buffer_at_offset(input_buffer)[0] != NULL)\n",
      "\u001b[0;1;32m            ~~~~~~~~~~~~~~~~~~~~~~~~~~~~~~~~~ ^  ~~~~\n",
      "\u001b[0m\u001b[1mcJSON.c:1623:91: \u001b[0m\u001b[0;1;35mwarning: \u001b[0m\u001b[1mcomparison between pointer and integer\n",
      "      ('unsigned char' and 'void *') [-Wpointer-integer-compare]\u001b[0m\n",
      "  ...0) || (buffer_at_offset(input_buffer)[0] == NULL))\n",
      "\u001b[0;1;32m            ~~~~~~~~~~~~~~~~~~~~~~~~~~~~~~~~~ ^  ~~~~\n",
      "\u001b[0m\u001b[1mcJSON.c:1651:45: \u001b[0m\u001b[0;1;35mwarning: \u001b[0m\u001b[1mcomparison between pointer and integer\n",
      "      ('unsigned char' and 'void *') [-Wpointer-integer-compare]\u001b[0m\n",
      "      if (buffer_at_offset(input_buffer)[0] != NULL)\n",
      "\u001b[0;1;32m          ~~~~~~~~~~~~~~~~~~~~~~~~~~~~~~~~~ ^  ~~~~\n",
      "\u001b[0m\u001b[1mcJSON.c:3035:12: \u001b[0m\u001b[0;1;35mwarning: \u001b[0m\u001b[1mformat string is not a string literal\n",
      "      (potentially insecure) [-Wformat-security]\u001b[0m\n",
      "    printf(string);\n",
      "\u001b[0;1;32m           ^~~~~~\n",
      "\u001b[0m\u001b[1mcJSON.c:3035:12: \u001b[0m\u001b[0;1;30mnote: \u001b[0mtreat the string as an argument to avoid this\u001b[0m\n",
      "    printf(string);\n",
      "\u001b[0;1;32m           ^\n",
      "\u001b[0m\u001b[0;32m           \"%s\", \n",
      "\u001b[0m8 warnings generated.\n",
      "gcc -fprofile-arcs -ftest-coverage -g -o cjson.cov cJSON.c\n",
      "\u001b[1mcJSON.c:721:47: \u001b[0m\u001b[0;1;35mwarning: \u001b[0m\u001b[1mcomparison between pointer and integer ('unsigned char'\n",
      "      and 'void *') [-Wpointer-integer-compare]\u001b[0m\n",
      "        if (buffer_at_offset(input_buffer)[0] == NULL)\n",
      "\u001b[0;1;32m            ~~~~~~~~~~~~~~~~~~~~~~~~~~~~~~~~~ ^  ~~~~\n",
      "\u001b[0m\u001b[1mcJSON.c:1243:87: \u001b[0m\u001b[0;1;35mwarning: \u001b[0m\u001b[1mcomparison between pointer and integer\n",
      "      ('unsigned char' and 'void *') [-Wpointer-integer-compare]\u001b[0m\n",
      "  ...0) || (buffer_at_offset(input_buffer)[0] == NULL))\n",
      "\u001b[0;1;32m            ~~~~~~~~~~~~~~~~~~~~~~~~~~~~~~~~~ ^  ~~~~\n",
      "\u001b[0m\u001b[1mcJSON.c:1274:20: \u001b[0m\u001b[0;1;35mwarning: \u001b[0m\u001b[1minitializing 'unsigned char *' with an expression of\n",
      "      type 'char *' converts between pointers to integer types with different\n",
      "      sign [-Wpointer-sign]\u001b[0m\n",
      "    unsigned char* curr_token = (char*)buffer_at_offset(input_buffer);\n",
      "\u001b[0;1;32m                   ^            ~~~~~~~~~~~~~~~~~~~~~~~~~~~~~~~~~~~~~\n",
      "\u001b[0m\u001b[1mcJSON.c:1275:32: \u001b[0m\u001b[0;1;35mwarning: \u001b[0m\u001b[1mpassing 'unsigned char *' to parameter of type\n",
      "      'char *' converts between pointers to integer types with different sign\n",
      "      [-Wpointer-sign]\u001b[0m\n",
      "    int is_token = check_token(curr_token);\n",
      "\u001b[0;1;32m                               ^~~~~~~~~~\n",
      "\u001b[0m\u001b[1mcJSON.c:56:23: \u001b[0m\u001b[0;1;30mnote: \u001b[0mpassing argument to parameter 'str' here\u001b[0m\n",
      "int check_token(char* str) {\n",
      "\u001b[0;1;32m                      ^\n",
      "\u001b[0m\u001b[1mcJSON.c:1460:47: \u001b[0m\u001b[0;1;35mwarning: \u001b[0m\u001b[1mcomparison between pointer and integer\n",
      "      ('unsigned char' and 'void *') [-Wpointer-integer-compare]\u001b[0m\n",
      "        if (buffer_at_offset(input_buffer)[0] != NULL)\n",
      "\u001b[0;1;32m            ~~~~~~~~~~~~~~~~~~~~~~~~~~~~~~~~~ ^  ~~~~\n",
      "\u001b[0m\u001b[1mcJSON.c:1623:91: \u001b[0m\u001b[0;1;35mwarning: \u001b[0m\u001b[1mcomparison between pointer and integer\n",
      "      ('unsigned char' and 'void *') [-Wpointer-integer-compare]\u001b[0m\n",
      "  ...0) || (buffer_at_offset(input_buffer)[0] == NULL))\n",
      "\u001b[0;1;32m            ~~~~~~~~~~~~~~~~~~~~~~~~~~~~~~~~~ ^  ~~~~\n",
      "\u001b[0m\u001b[1mcJSON.c:1651:45: \u001b[0m\u001b[0;1;35mwarning: \u001b[0m\u001b[1mcomparison between pointer and integer\n",
      "      ('unsigned char' and 'void *') [-Wpointer-integer-compare]\u001b[0m\n",
      "      if (buffer_at_offset(input_buffer)[0] != NULL)\n",
      "\u001b[0;1;32m          ~~~~~~~~~~~~~~~~~~~~~~~~~~~~~~~~~ ^  ~~~~\n",
      "\u001b[0m\u001b[1mcJSON.c:3035:12: \u001b[0m\u001b[0;1;35mwarning: \u001b[0m\u001b[1mformat string is not a string literal\n",
      "      (potentially insecure) [-Wformat-security]\u001b[0m\n",
      "    printf(string);\n",
      "\u001b[0;1;32m           ^~~~~~\n",
      "\u001b[0m\u001b[1mcJSON.c:3035:12: \u001b[0m\u001b[0;1;30mnote: \u001b[0mtreat the string as an argument to avoid this\u001b[0m\n",
      "    printf(string);\n",
      "\u001b[0;1;32m           ^\n",
      "\u001b[0m\u001b[0;32m           \"%s\", \n",
      "\u001b[0m8 warnings generated.\n"
     ]
    }
   ],
   "source": [
    "!(cd examples/cjson; make clean; make)"
   ]
  },
  {
   "cell_type": "code",
   "execution_count": 41,
   "metadata": {},
   "outputs": [],
   "source": [
    "!python3 convert_validtxt.py data/pfuzzer/cjson.txt > data/pfuzzer/cjson.py"
   ]
  },
  {
   "cell_type": "code",
   "execution_count": 42,
   "metadata": {},
   "outputs": [
    {
     "name": "stdout",
     "output_type": "stream",
     "text": [
      "(12, ('82.86', '61.11'))\r\n"
     ]
    }
   ],
   "source": [
    "!python3 check_inputs.py examples/cjson/cjson.cov data/pfuzzer/cjson.py"
   ]
  },
  {
   "cell_type": "code",
   "execution_count": 43,
   "metadata": {},
   "outputs": [],
   "source": [
    "!mv examples/results_cjson.json data/pfuzzer_cjson.json"
   ]
  },
  {
   "cell_type": "markdown",
   "metadata": {},
   "source": [
    "## bFuzzer"
   ]
  },
  {
   "cell_type": "code",
   "execution_count": 118,
   "metadata": {},
   "outputs": [],
   "source": [
    "def read_bfuzcov_data(file_name, out):\n",
    "    arr = []\n",
    "    with open(file_name) as f:\n",
    "        while True:\n",
    "            v = f.readline()\n",
    "            if v is None: break\n",
    "            if not v: break\n",
    "            if v[0] == '#': continue\n",
    "            r = json.loads(v)\n",
    "            ct = r['time']\n",
    "            o = bytes(r['output'])\n",
    "            arr.append((ct, o))\n",
    "    with open(out, 'w+') as f:\n",
    "        print('inputs = [', file=f)\n",
    "        for a in arr:\n",
    "            print('[', a[0], ',', a[1], '],', file=f)\n",
    "        print(']', file=f)"
   ]
  },
  {
   "cell_type": "markdown",
   "metadata": {},
   "source": [
    "### TinyC"
   ]
  },
  {
   "cell_type": "code",
   "execution_count": 64,
   "metadata": {},
   "outputs": [
    {
     "name": "stdout",
     "output_type": "stream",
     "text": [
      "rm -rf *.o tiny __pycache__/ *.gcda *.gcno build *.cov* *.dSYM\n",
      "gcc -g -o tiny tiny.c\n",
      "\u001b[1mtiny.c:164:49: \u001b[0m\u001b[0;1;35mwarning: \u001b[0m\u001b[1madd explicit braces to avoid dangling else\n",
      "      [-Wdangling-else]\u001b[0m\n",
      "              if (id_name[1] == '\\0') sym = ID; else syntax_error_ch();\n",
      "\u001b[0;1;32m                                                ^\n",
      "\u001b[0m1 warning generated.\n",
      "gcc -fprofile-arcs -ftest-coverage -g -o tiny.cov tiny.c\n",
      "\u001b[1mtiny.c:164:49: \u001b[0m\u001b[0;1;35mwarning: \u001b[0m\u001b[1madd explicit braces to avoid dangling else\n",
      "      [-Wdangling-else]\u001b[0m\n",
      "              if (id_name[1] == '\\0') sym = ID; else syntax_error_ch();\n",
      "\u001b[0;1;32m                                                ^\n",
      "\u001b[0m1 warning generated.\n"
     ]
    }
   ],
   "source": [
    "!(cd examples/tiny/; make clean; make)"
   ]
  },
  {
   "cell_type": "code",
   "execution_count": 65,
   "metadata": {},
   "outputs": [],
   "source": [
    "read_bfuzcov_data('data/bfuzzer/results_tinyc.py.json', 'data/bfuzzer/tinyc.py')"
   ]
  },
  {
   "cell_type": "code",
   "execution_count": 66,
   "metadata": {},
   "outputs": [
    {
     "name": "stdout",
     "output_type": "stream",
     "text": [
      "(10802, ('88.24', '72.22'))\r\n"
     ]
    }
   ],
   "source": [
    "!python3 check_inputs.py examples/tiny/tiny.cov data/bfuzzer/tinyc.py"
   ]
  },
  {
   "cell_type": "code",
   "execution_count": 67,
   "metadata": {},
   "outputs": [],
   "source": [
    "!mv examples/results_tiny.json data/bfuzzer_tiny.json"
   ]
  },
  {
   "cell_type": "code",
   "execution_count": null,
   "metadata": {},
   "outputs": [],
   "source": []
  },
  {
   "cell_type": "markdown",
   "metadata": {},
   "source": [
    "### Ini"
   ]
  },
  {
   "cell_type": "code",
   "execution_count": 68,
   "metadata": {},
   "outputs": [
    {
     "name": "stdout",
     "output_type": "stream",
     "text": [
      "rm -rf *.o ini __pycache__/ *.gcda *.gcno build *.cov* *.dSYM\n",
      "gcc -g -o ini ini.c\n",
      "gcc -fprofile-arcs -ftest-coverage -g -o ini.cov ini.c\n"
     ]
    }
   ],
   "source": [
    "!(cd examples/ini/; make clean; make)"
   ]
  },
  {
   "cell_type": "code",
   "execution_count": 69,
   "metadata": {},
   "outputs": [],
   "source": [
    "read_bfuzcov_data('data/bfuzzer/results_ini.py.json', 'data/bfuzzer/ini.py')"
   ]
  },
  {
   "cell_type": "code",
   "execution_count": 70,
   "metadata": {},
   "outputs": [
    {
     "name": "stdout",
     "output_type": "stream",
     "text": [
      "(4004, ('76.30', '59.76'))\r\n"
     ]
    }
   ],
   "source": [
    "!python3 check_inputs.py examples/ini/ini.cov data/bfuzzer/ini.py"
   ]
  },
  {
   "cell_type": "code",
   "execution_count": 71,
   "metadata": {},
   "outputs": [],
   "source": [
    "!mv examples/results_ini.json data/bfuzzer_ini.json"
   ]
  },
  {
   "cell_type": "code",
   "execution_count": null,
   "metadata": {},
   "outputs": [],
   "source": []
  },
  {
   "cell_type": "markdown",
   "metadata": {},
   "source": [
    "### CSV"
   ]
  },
  {
   "cell_type": "code",
   "execution_count": 72,
   "metadata": {},
   "outputs": [
    {
     "name": "stdout",
     "output_type": "stream",
     "text": [
      "rm -rf *.o csvparser __pycache__/ *.gcda *.gcno build *.cov* *.dSYM\n",
      "gcc -g -o csvparser csvparser.c\n",
      "gcc -fprofile-arcs -ftest-coverage -g -o csvparser.cov csvparser.c\n"
     ]
    }
   ],
   "source": [
    "!(cd examples/csv/; make clean; make)"
   ]
  },
  {
   "cell_type": "code",
   "execution_count": 74,
   "metadata": {},
   "outputs": [],
   "source": [
    "read_bfuzcov_data('data/bfuzzer/results_csvparser.py.json', 'data/bfuzzer/csv.py')"
   ]
  },
  {
   "cell_type": "code",
   "execution_count": 77,
   "metadata": {},
   "outputs": [
    {
     "name": "stdout",
     "output_type": "stream",
     "text": [
      "(252501, ('67.26', '58.04'))\r\n"
     ]
    }
   ],
   "source": [
    "!python3 check_inputs.py examples/csv/csvparser.cov data/bfuzzer/csv.py"
   ]
  },
  {
   "cell_type": "code",
   "execution_count": 111,
   "metadata": {},
   "outputs": [],
   "source": [
    "!mv examples/results_csvparser.json data/bfuzzer_csv.json"
   ]
  },
  {
   "cell_type": "code",
   "execution_count": null,
   "metadata": {},
   "outputs": [],
   "source": []
  },
  {
   "cell_type": "markdown",
   "metadata": {},
   "source": [
    "### MJS"
   ]
  },
  {
   "cell_type": "code",
   "execution_count": 79,
   "metadata": {},
   "outputs": [
    {
     "name": "stdout",
     "output_type": "stream",
     "text": [
      "rm -rf *.o mjs __pycache__/ *.gcda *.gcno build *.cov* *.dSYM\n",
      "gcc -g -o mjs mjs.c -ldl \n",
      "gcc -fprofile-arcs -ftest-coverage -g -o mjs.cov mjs.c -ldl \n",
      "#gcc -Wl,--no-as-needed -ldl -fprofile-arcs -ftest-coverage -g -o mjs.cov mjs.c\n"
     ]
    }
   ],
   "source": [
    "!(cd examples/mjs/; make clean; make)"
   ]
  },
  {
   "cell_type": "code",
   "execution_count": 80,
   "metadata": {},
   "outputs": [],
   "source": [
    "read_bfuzcov_data('data/bfuzzer/results_mjs.py.json', 'data/bfuzzer/mjs.py')"
   ]
  },
  {
   "cell_type": "code",
   "execution_count": 81,
   "metadata": {},
   "outputs": [
    {
     "name": "stdout",
     "output_type": "stream",
     "text": [
      "(49282, ('32.42', '23.35'))\r\n"
     ]
    }
   ],
   "source": [
    "!python3 check_inputs.py examples/mjs/mjs.cov data/bfuzzer/mjs.py"
   ]
  },
  {
   "cell_type": "code",
   "execution_count": 82,
   "metadata": {},
   "outputs": [],
   "source": [
    "!mv examples/results_mjs.json data/bfuzzer_mjs.json"
   ]
  },
  {
   "cell_type": "code",
   "execution_count": null,
   "metadata": {},
   "outputs": [],
   "source": []
  },
  {
   "cell_type": "markdown",
   "metadata": {},
   "source": [
    "### CJSON"
   ]
  },
  {
   "cell_type": "code",
   "execution_count": 119,
   "metadata": {
    "scrolled": true
   },
   "outputs": [
    {
     "name": "stdout",
     "output_type": "stream",
     "text": [
      "rm -rf *.o cjson __pycache__/ *.gcda *.gcno build *.cov* *.dSYM\n",
      "gcc -g -o cjson cJSON.c\n",
      "\u001b[1mcJSON.c:721:47: \u001b[0m\u001b[0;1;35mwarning: \u001b[0m\u001b[1mcomparison between pointer and integer ('unsigned char'\n",
      "      and 'void *') [-Wpointer-integer-compare]\u001b[0m\n",
      "        if (buffer_at_offset(input_buffer)[0] == NULL)\n",
      "\u001b[0;1;32m            ~~~~~~~~~~~~~~~~~~~~~~~~~~~~~~~~~ ^  ~~~~\n",
      "\u001b[0m\u001b[1mcJSON.c:1243:87: \u001b[0m\u001b[0;1;35mwarning: \u001b[0m\u001b[1mcomparison between pointer and integer\n",
      "      ('unsigned char' and 'void *') [-Wpointer-integer-compare]\u001b[0m\n",
      "  ...0) || (buffer_at_offset(input_buffer)[0] == NULL))\n",
      "\u001b[0;1;32m            ~~~~~~~~~~~~~~~~~~~~~~~~~~~~~~~~~ ^  ~~~~\n",
      "\u001b[0m\u001b[1mcJSON.c:1274:20: \u001b[0m\u001b[0;1;35mwarning: \u001b[0m\u001b[1minitializing 'unsigned char *' with an expression of\n",
      "      type 'char *' converts between pointers to integer types with different\n",
      "      sign [-Wpointer-sign]\u001b[0m\n",
      "    unsigned char* curr_token = (char*)buffer_at_offset(input_buffer);\n",
      "\u001b[0;1;32m                   ^            ~~~~~~~~~~~~~~~~~~~~~~~~~~~~~~~~~~~~~\n",
      "\u001b[0m\u001b[1mcJSON.c:1275:32: \u001b[0m\u001b[0;1;35mwarning: \u001b[0m\u001b[1mpassing 'unsigned char *' to parameter of type\n",
      "      'char *' converts between pointers to integer types with different sign\n",
      "      [-Wpointer-sign]\u001b[0m\n",
      "    int is_token = check_token(curr_token);\n",
      "\u001b[0;1;32m                               ^~~~~~~~~~\n",
      "\u001b[0m\u001b[1mcJSON.c:56:23: \u001b[0m\u001b[0;1;30mnote: \u001b[0mpassing argument to parameter 'str' here\u001b[0m\n",
      "int check_token(char* str) {\n",
      "\u001b[0;1;32m                      ^\n",
      "\u001b[0m\u001b[1mcJSON.c:1460:47: \u001b[0m\u001b[0;1;35mwarning: \u001b[0m\u001b[1mcomparison between pointer and integer\n",
      "      ('unsigned char' and 'void *') [-Wpointer-integer-compare]\u001b[0m\n",
      "        if (buffer_at_offset(input_buffer)[0] != NULL)\n",
      "\u001b[0;1;32m            ~~~~~~~~~~~~~~~~~~~~~~~~~~~~~~~~~ ^  ~~~~\n",
      "\u001b[0m\u001b[1mcJSON.c:1623:91: \u001b[0m\u001b[0;1;35mwarning: \u001b[0m\u001b[1mcomparison between pointer and integer\n",
      "      ('unsigned char' and 'void *') [-Wpointer-integer-compare]\u001b[0m\n",
      "  ...0) || (buffer_at_offset(input_buffer)[0] == NULL))\n",
      "\u001b[0;1;32m            ~~~~~~~~~~~~~~~~~~~~~~~~~~~~~~~~~ ^  ~~~~\n",
      "\u001b[0m\u001b[1mcJSON.c:1651:45: \u001b[0m\u001b[0;1;35mwarning: \u001b[0m\u001b[1mcomparison between pointer and integer\n",
      "      ('unsigned char' and 'void *') [-Wpointer-integer-compare]\u001b[0m\n",
      "      if (buffer_at_offset(input_buffer)[0] != NULL)\n",
      "\u001b[0;1;32m          ~~~~~~~~~~~~~~~~~~~~~~~~~~~~~~~~~ ^  ~~~~\n",
      "\u001b[0m\u001b[1mcJSON.c:3035:12: \u001b[0m\u001b[0;1;35mwarning: \u001b[0m\u001b[1mformat string is not a string literal\n",
      "      (potentially insecure) [-Wformat-security]\u001b[0m\n",
      "    printf(string);\n",
      "\u001b[0;1;32m           ^~~~~~\n",
      "\u001b[0m\u001b[1mcJSON.c:3035:12: \u001b[0m\u001b[0;1;30mnote: \u001b[0mtreat the string as an argument to avoid this\u001b[0m\n",
      "    printf(string);\n",
      "\u001b[0;1;32m           ^\n",
      "\u001b[0m\u001b[0;32m           \"%s\", \n",
      "\u001b[0m8 warnings generated.\n",
      "gcc -fprofile-arcs -ftest-coverage -g -o cjson.cov cJSON.c\n",
      "\u001b[1mcJSON.c:721:47: \u001b[0m\u001b[0;1;35mwarning: \u001b[0m\u001b[1mcomparison between pointer and integer ('unsigned char'\n",
      "      and 'void *') [-Wpointer-integer-compare]\u001b[0m\n",
      "        if (buffer_at_offset(input_buffer)[0] == NULL)\n",
      "\u001b[0;1;32m            ~~~~~~~~~~~~~~~~~~~~~~~~~~~~~~~~~ ^  ~~~~\n",
      "\u001b[0m\u001b[1mcJSON.c:1243:87: \u001b[0m\u001b[0;1;35mwarning: \u001b[0m\u001b[1mcomparison between pointer and integer\n",
      "      ('unsigned char' and 'void *') [-Wpointer-integer-compare]\u001b[0m\n",
      "  ...0) || (buffer_at_offset(input_buffer)[0] == NULL))\n",
      "\u001b[0;1;32m            ~~~~~~~~~~~~~~~~~~~~~~~~~~~~~~~~~ ^  ~~~~\n",
      "\u001b[0m\u001b[1mcJSON.c:1274:20: \u001b[0m\u001b[0;1;35mwarning: \u001b[0m\u001b[1minitializing 'unsigned char *' with an expression of\n",
      "      type 'char *' converts between pointers to integer types with different\n",
      "      sign [-Wpointer-sign]\u001b[0m\n",
      "    unsigned char* curr_token = (char*)buffer_at_offset(input_buffer);\n",
      "\u001b[0;1;32m                   ^            ~~~~~~~~~~~~~~~~~~~~~~~~~~~~~~~~~~~~~\n",
      "\u001b[0m\u001b[1mcJSON.c:1275:32: \u001b[0m\u001b[0;1;35mwarning: \u001b[0m\u001b[1mpassing 'unsigned char *' to parameter of type\n",
      "      'char *' converts between pointers to integer types with different sign\n",
      "      [-Wpointer-sign]\u001b[0m\n",
      "    int is_token = check_token(curr_token);\n",
      "\u001b[0;1;32m                               ^~~~~~~~~~\n",
      "\u001b[0m\u001b[1mcJSON.c:56:23: \u001b[0m\u001b[0;1;30mnote: \u001b[0mpassing argument to parameter 'str' here\u001b[0m\n",
      "int check_token(char* str) {\n",
      "\u001b[0;1;32m                      ^\n",
      "\u001b[0m\u001b[1mcJSON.c:1460:47: \u001b[0m\u001b[0;1;35mwarning: \u001b[0m\u001b[1mcomparison between pointer and integer\n",
      "      ('unsigned char' and 'void *') [-Wpointer-integer-compare]\u001b[0m\n",
      "        if (buffer_at_offset(input_buffer)[0] != NULL)\n",
      "\u001b[0;1;32m            ~~~~~~~~~~~~~~~~~~~~~~~~~~~~~~~~~ ^  ~~~~\n",
      "\u001b[0m\u001b[1mcJSON.c:1623:91: \u001b[0m\u001b[0;1;35mwarning: \u001b[0m\u001b[1mcomparison between pointer and integer\n",
      "      ('unsigned char' and 'void *') [-Wpointer-integer-compare]\u001b[0m\n",
      "  ...0) || (buffer_at_offset(input_buffer)[0] == NULL))\n",
      "\u001b[0;1;32m            ~~~~~~~~~~~~~~~~~~~~~~~~~~~~~~~~~ ^  ~~~~\n",
      "\u001b[0m\u001b[1mcJSON.c:1651:45: \u001b[0m\u001b[0;1;35mwarning: \u001b[0m\u001b[1mcomparison between pointer and integer\n",
      "      ('unsigned char' and 'void *') [-Wpointer-integer-compare]\u001b[0m\n",
      "      if (buffer_at_offset(input_buffer)[0] != NULL)\n",
      "\u001b[0;1;32m          ~~~~~~~~~~~~~~~~~~~~~~~~~~~~~~~~~ ^  ~~~~\n",
      "\u001b[0m\u001b[1mcJSON.c:3035:12: \u001b[0m\u001b[0;1;35mwarning: \u001b[0m\u001b[1mformat string is not a string literal\n",
      "      (potentially insecure) [-Wformat-security]\u001b[0m\n",
      "    printf(string);\n",
      "\u001b[0;1;32m           ^~~~~~\n",
      "\u001b[0m\u001b[1mcJSON.c:3035:12: \u001b[0m\u001b[0;1;30mnote: \u001b[0mtreat the string as an argument to avoid this\u001b[0m\n",
      "    printf(string);\n",
      "\u001b[0;1;32m           ^\n",
      "\u001b[0m\u001b[0;32m           \"%s\", \n",
      "\u001b[0m8 warnings generated.\n"
     ]
    }
   ],
   "source": [
    "!(cd examples/cjson/; make clean; make)"
   ]
  },
  {
   "cell_type": "code",
   "execution_count": 120,
   "metadata": {},
   "outputs": [],
   "source": [
    "read_bfuzcov_data('data/bfuzzer/results_cjson.py.json', 'data/bfuzzer/cjson.py')"
   ]
  },
  {
   "cell_type": "code",
   "execution_count": 121,
   "metadata": {
    "scrolled": true
   },
   "outputs": [
    {
     "name": "stdout",
     "output_type": "stream",
     "text": [
      "(2955, ('82.86', '61.11'))\r\n"
     ]
    }
   ],
   "source": [
    "!python3 check_inputs.py examples/cjson/cjson.cov data/bfuzzer/cjson.py"
   ]
  },
  {
   "cell_type": "code",
   "execution_count": 122,
   "metadata": {},
   "outputs": [],
   "source": [
    "!mv examples/results_cjson.json data/bfuzzer_cjson.json"
   ]
  },
  {
   "cell_type": "markdown",
   "metadata": {},
   "source": [
    "## Final"
   ]
  },
  {
   "cell_type": "code",
   "execution_count": 87,
   "metadata": {},
   "outputs": [],
   "source": [
    "import matplotlib.pyplot as plt"
   ]
  },
  {
   "cell_type": "code",
   "execution_count": 88,
   "metadata": {},
   "outputs": [],
   "source": [
    "def read_cov_data(file_name):\n",
    "    line_a, branch_a, ct_a, o_a = [], [], [], []\n",
    "    with open(file_name) as f:\n",
    "        while True:\n",
    "            v = f.readline()\n",
    "            if v is None: break\n",
    "            if not v: break\n",
    "            r = json.loads(v)\n",
    "            line, branch =  [float(i) for i in r['cumcoverage']]\n",
    "            ct = r['time']\n",
    "            o = bytes(r['output'])\n",
    "            line_a.append(line)\n",
    "            branch_a.append(branch)\n",
    "            ct_a.append(ct)\n",
    "            o_a.append(o)\n",
    "            if ct > 3600: break # maximum 1 hr.\n",
    "    # make sure we have a continuous line (because cumulative.)\n",
    "    line_a.append(line_a[-1])\n",
    "    branch_a.append(branch_a[-1])\n",
    "    ct_a.append(3600)\n",
    "    o_a.append(None)\n",
    "    print(ct_a[-1], ' line:', line_a[-1], 'branch: ', branch_a[-1])\n",
    "    return o_a, ct_a, line_a, branch_a"
   ]
  },
  {
   "cell_type": "code",
   "execution_count": null,
   "metadata": {},
   "outputs": [],
   "source": []
  },
  {
   "cell_type": "code",
   "execution_count": 89,
   "metadata": {},
   "outputs": [],
   "source": [
    "from IPython.display import HTML, display"
   ]
  },
  {
   "cell_type": "code",
   "execution_count": 90,
   "metadata": {},
   "outputs": [],
   "source": [
    "def show_table(keys, autogram, mimid, title, fn):\n",
    "    keys = [k for k in keys if k in autogram and k in mimid and autogram[k] and mimid[k]]\n",
    "    tbl = ['<tr>%s</tr>' % ''.join([\"<th>%s</th>\" % k for k in ['<b>%s</b>' % title,'Autogram', 'Mimid']])]\n",
    "    for k in keys:\n",
    "        h_c = \"<td>%s</td>\" % k\n",
    "        a_c = \"<td>%s</td>\" % fn(autogram.get(k,('',0)))\n",
    "        m_c = \"<td>%s</td>\" % fn(mimid.get(k,('',0)))\n",
    "        tbl.append('<tr>%s</tr>' % ''.join([h_c, a_c, m_c]))\n",
    "    return display(HTML('<table>%s</table>' % '\\n'.join(tbl)))"
   ]
  },
  {
   "cell_type": "code",
   "execution_count": 91,
   "metadata": {},
   "outputs": [],
   "source": [
    "def to_sec(hm):\n",
    "    return {k:((hm[k][1]).seconds, 1) for k in hm if hm[k]}"
   ]
  },
  {
   "cell_type": "code",
   "execution_count": 92,
   "metadata": {},
   "outputs": [],
   "source": [
    "import statistics"
   ]
  },
  {
   "cell_type": "code",
   "execution_count": 93,
   "metadata": {},
   "outputs": [],
   "source": [
    "def stats(lst_):\n",
    "    # remove last\n",
    "    assert lst_[-1] is None\n",
    "    lst = lst_[0:-1]\n",
    "    uniql = list({str(l) for l in lst})\n",
    "    print('Total: ', len(lst))\n",
    "    print('Unique: ', len(uniql))\n",
    "    print('MaxLen: ', max([len(l) for l in uniql]))\n",
    "    print('MinLen: ', min([len(l) for l in uniql]))\n",
    "    print('Mean: ', statistics.mean([len(l) for l in uniql]))"
   ]
  },
  {
   "cell_type": "markdown",
   "metadata": {},
   "source": [
    "### TinyC"
   ]
  },
  {
   "cell_type": "code",
   "execution_count": 97,
   "metadata": {},
   "outputs": [
    {
     "name": "stdout",
     "output_type": "stream",
     "text": [
      "3600  line: 88.24 branch:  72.22\n"
     ]
    }
   ],
   "source": [
    "btinyc_outputs, btinyc_time, btinyc_line, btinyc_branch = read_cov_data('data/bfuzzer_tiny.json')"
   ]
  },
  {
   "cell_type": "code",
   "execution_count": 98,
   "metadata": {},
   "outputs": [
    {
     "name": "stdout",
     "output_type": "stream",
     "text": [
      "Total:  10803\n",
      "Unique:  8061\n",
      "MaxLen:  42\n",
      "MinLen:  4\n",
      "Mean:  10.640863416449571\n"
     ]
    }
   ],
   "source": [
    "stats(btinyc_outputs)"
   ]
  },
  {
   "cell_type": "code",
   "execution_count": 99,
   "metadata": {},
   "outputs": [
    {
     "name": "stdout",
     "output_type": "stream",
     "text": [
      "3600  line: 88.24 branch:  72.22\n"
     ]
    }
   ],
   "source": [
    "ptinyc_outputs, ptinyc_time, ptinyc_line, ptinyc_branch = read_cov_data('data/pfuzzer_tiny.json')"
   ]
  },
  {
   "cell_type": "code",
   "execution_count": 100,
   "metadata": {},
   "outputs": [
    {
     "name": "stdout",
     "output_type": "stream",
     "text": [
      "Total:  3\n",
      "Unique:  3\n",
      "MaxLen:  16\n",
      "MinLen:  4\n",
      "Mean:  11.666666666666666\n"
     ]
    }
   ],
   "source": [
    "stats(ptinyc_outputs)"
   ]
  },
  {
   "cell_type": "code",
   "execution_count": 101,
   "metadata": {},
   "outputs": [
    {
     "data": {
      "image/png": "[encoded data removed]",
      "text/plain": [
       "<Figure size 432x288 with 1 Axes>"
      ]
     },
     "metadata": {
      "needs_background": "light"
     },
     "output_type": "display_data"
    }
   ],
   "source": [
    "plt.plot(btinyc_time, btinyc_line, label='bFuzzer')\n",
    "plt.plot(ptinyc_time, ptinyc_line, label='pFuzzer')\n",
    "plt.ylabel('Statement')\n",
    "plt.xlabel('Time')\n",
    "#plt.title('TinyC Cumulative Statement Coverage')\n",
    "plt.axis([0, 3600, 0, 100]) \n",
    "plt.legend()\n",
    "zoom(plt, 'tinyc-s')"
   ]
  },
  {
   "cell_type": "code",
   "execution_count": 102,
   "metadata": {},
   "outputs": [
    {
     "data": {
      "image/png": "[encoded data removed]",
      "text/plain": [
       "<Figure size 432x288 with 1 Axes>"
      ]
     },
     "metadata": {
      "needs_background": "light"
     },
     "output_type": "display_data"
    }
   ],
   "source": [
    "plt.plot(btinyc_time, btinyc_branch, label='bFuzzer')\n",
    "plt.plot(ptinyc_time, ptinyc_branch, label='pFuzzer')\n",
    "plt.ylabel('Branch')\n",
    "plt.xlabel('Time')\n",
    "#plt.title('TinyC Cumulative Branch Coverage')\n",
    "plt.axis([0, 3600, 0, 100])\n",
    "plt.legend()\n",
    "zoom(plt, 'tinyc-b')"
   ]
  },
  {
   "cell_type": "markdown",
   "metadata": {},
   "source": [
    "### Ini"
   ]
  },
  {
   "cell_type": "code",
   "execution_count": 104,
   "metadata": {},
   "outputs": [
    {
     "name": "stdout",
     "output_type": "stream",
     "text": [
      "3600  line: 76.3 branch:  59.76\n"
     ]
    }
   ],
   "source": [
    "bini_outputs, bini_time, bini_line, bini_branch = read_cov_data('data/bfuzzer_ini.json')"
   ]
  },
  {
   "cell_type": "code",
   "execution_count": 105,
   "metadata": {},
   "outputs": [
    {
     "name": "stdout",
     "output_type": "stream",
     "text": [
      "Total:  4005\n",
      "Unique:  3869\n",
      "MaxLen:  216\n",
      "MinLen:  4\n",
      "Mean:  37.26389247867666\n"
     ]
    }
   ],
   "source": [
    "stats(bini_outputs)"
   ]
  },
  {
   "cell_type": "code",
   "execution_count": 106,
   "metadata": {},
   "outputs": [
    {
     "name": "stdout",
     "output_type": "stream",
     "text": [
      "3600  line: 75.56 branch:  56.1\n"
     ]
    }
   ],
   "source": [
    "pini_outputs, pini_time, pini_line, pini_branch = read_cov_data('data/pfuzzer_ini.json')"
   ]
  },
  {
   "cell_type": "code",
   "execution_count": 107,
   "metadata": {},
   "outputs": [
    {
     "name": "stdout",
     "output_type": "stream",
     "text": [
      "Total:  6\n",
      "Unique:  6\n",
      "MaxLen:  5\n",
      "MinLen:  4\n",
      "Mean:  4.666666666666667\n"
     ]
    }
   ],
   "source": [
    "stats(pini_outputs)"
   ]
  },
  {
   "cell_type": "code",
   "execution_count": 108,
   "metadata": {},
   "outputs": [
    {
     "data": {
      "image/png": "[encoded data removed]",
      "text/plain": [
       "<Figure size 432x288 with 1 Axes>"
      ]
     },
     "metadata": {
      "needs_background": "light"
     },
     "output_type": "display_data"
    }
   ],
   "source": [
    "plt.plot(bini_time, bini_line, label='bFuzzer')\n",
    "plt.plot(pini_time, pini_line, label='pFuzzer')\n",
    "plt.ylabel('Statement')\n",
    "plt.xlabel('Time')\n",
    "#plt.title('INI Cumulative Statement Coverage')\n",
    "plt.axis([0, 3600, 0, 100])\n",
    "plt.legend()\n",
    "zoom(plt, 'ini-s')"
   ]
  },
  {
   "cell_type": "code",
   "execution_count": 109,
   "metadata": {},
   "outputs": [
    {
     "data": {
      "image/png": "[encoded data removed]",
      "text/plain": [
       "<Figure size 432x288 with 1 Axes>"
      ]
     },
     "metadata": {
      "needs_background": "light"
     },
     "output_type": "display_data"
    }
   ],
   "source": [
    "plt.plot(bini_time, bini_branch, label='bFuzzer')\n",
    "plt.plot(pini_time, pini_branch, label='pFuzzer')\n",
    "plt.ylabel('Branch')\n",
    "plt.xlabel('Time')\n",
    "#plt.title('INI Cumulative Branch Coverage')\n",
    "plt.axis([0, 3600, 0, 100]) \n",
    "plt.legend()\n",
    "zoom(plt, 'ini-b')"
   ]
  },
  {
   "cell_type": "markdown",
   "metadata": {},
   "source": [
    "### CSV"
   ]
  },
  {
   "cell_type": "code",
   "execution_count": 139,
   "metadata": {},
   "outputs": [
    {
     "name": "stdout",
     "output_type": "stream",
     "text": [
      "3600  line: 67.26 branch:  58.04\n"
     ]
    }
   ],
   "source": [
    "bcsv_outputs, bcsv_time, bcsv_line, bcsv_branch = read_cov_data('data/bfuzzer_csv.json')"
   ]
  },
  {
   "cell_type": "code",
   "execution_count": 140,
   "metadata": {},
   "outputs": [
    {
     "name": "stdout",
     "output_type": "stream",
     "text": [
      "Total:  252502\n",
      "Unique:  132514\n",
      "MaxLen:  18\n",
      "MinLen:  5\n",
      "Mean:  6.674192915465536\n"
     ]
    }
   ],
   "source": [
    "stats(bcsv_outputs)"
   ]
  },
  {
   "cell_type": "code",
   "execution_count": 141,
   "metadata": {},
   "outputs": [
    {
     "name": "stdout",
     "output_type": "stream",
     "text": [
      "3600  line: 67.26 branch:  58.04\n"
     ]
    }
   ],
   "source": [
    "pcsv_outputs, pcsv_time, pcsv_line, pcsv_branch = read_cov_data('data/pfuzzer_csv.json')"
   ]
  },
  {
   "cell_type": "code",
   "execution_count": 142,
   "metadata": {},
   "outputs": [
    {
     "name": "stdout",
     "output_type": "stream",
     "text": [
      "Total:  9\n",
      "Unique:  9\n",
      "MaxLen:  14\n",
      "MinLen:  4\n",
      "Mean:  6.888888888888889\n"
     ]
    }
   ],
   "source": [
    "stats(pcsv_outputs)"
   ]
  },
  {
   "cell_type": "code",
   "execution_count": 143,
   "metadata": {},
   "outputs": [
    {
     "data": {
      "image/png": "[encoded data removed]",
      "text/plain": [
       "<Figure size 432x288 with 1 Axes>"
      ]
     },
     "metadata": {
      "needs_background": "light"
     },
     "output_type": "display_data"
    }
   ],
   "source": [
    "plt.plot(bcsv_time, bcsv_line, label='bFuzzer')\n",
    "plt.plot(pcsv_time, pcsv_line, label='pFuzzer')\n",
    "plt.ylabel('Statement')\n",
    "plt.xlabel('Time')\n",
    "#plt.title('CSV Cumulative Statement Coverage')\n",
    "plt.axis([0, 3600, 0, 100])\n",
    "plt.legend()\n",
    "zoom(plt, 'csv-s')"
   ]
  },
  {
   "cell_type": "code",
   "execution_count": 144,
   "metadata": {},
   "outputs": [
    {
     "data": {
      "image/png": "[encoded data removed]",
      "text/plain": [
       "<Figure size 432x288 with 1 Axes>"
      ]
     },
     "metadata": {
      "needs_background": "light"
     },
     "output_type": "display_data"
    }
   ],
   "source": [
    "plt.plot(bcsv_time, bcsv_branch, label='bFuzzer')\n",
    "plt.plot(pcsv_time, pcsv_branch, label='pFuzzer')\n",
    "plt.ylabel('Branch')\n",
    "plt.xlabel('Time')\n",
    "#plt.title('CSV Cumulative Branch Coverage')\n",
    "plt.axis([0, 3600, 0, 100])\n",
    "plt.legend()\n",
    "zoom(plt, 'csv-b')"
   ]
  },
  {
   "cell_type": "markdown",
   "metadata": {},
   "source": [
    "### MJS"
   ]
  },
  {
   "cell_type": "code",
   "execution_count": 146,
   "metadata": {},
   "outputs": [
    {
     "name": "stdout",
     "output_type": "stream",
     "text": [
      "3600  line: 32.42 branch:  23.35\n"
     ]
    }
   ],
   "source": [
    "bmjs_outputs, bmjs_time, bmjs_line, bmjs_branch = read_cov_data('data/bfuzzer_mjs.json')"
   ]
  },
  {
   "cell_type": "code",
   "execution_count": 147,
   "metadata": {},
   "outputs": [
    {
     "name": "stdout",
     "output_type": "stream",
     "text": [
      "Total:  49283\n",
      "Unique:  32052\n",
      "MaxLen:  959\n",
      "MinLen:  4\n",
      "Mean:  8.932827904654935\n"
     ]
    }
   ],
   "source": [
    "stats(bmjs_outputs)"
   ]
  },
  {
   "cell_type": "code",
   "execution_count": 148,
   "metadata": {},
   "outputs": [
    {
     "name": "stdout",
     "output_type": "stream",
     "text": [
      "3600  line: 20.96 branch:  10.02\n"
     ]
    }
   ],
   "source": [
    "pmjs_outputs, pmjs_time, pmjs_line, pmjs_branch = read_cov_data('data/pfuzzer_mjs.json')"
   ]
  },
  {
   "cell_type": "code",
   "execution_count": 149,
   "metadata": {},
   "outputs": [
    {
     "name": "stdout",
     "output_type": "stream",
     "text": [
      "Total:  8\n",
      "Unique:  8\n",
      "MaxLen:  13\n",
      "MinLen:  4\n",
      "Mean:  5.5\n"
     ]
    }
   ],
   "source": [
    "stats(pmjs_outputs)"
   ]
  },
  {
   "cell_type": "code",
   "execution_count": 150,
   "metadata": {},
   "outputs": [
    {
     "data": {
      "image/png": "[encoded data removed]",
      "text/plain": [
       "<Figure size 432x288 with 1 Axes>"
      ]
     },
     "metadata": {
      "needs_background": "light"
     },
     "output_type": "display_data"
    }
   ],
   "source": [
    "plt.plot(bmjs_time, bmjs_line, label='bFuzzer')\n",
    "plt.plot(pmjs_time, pmjs_line, label='pFuzzer')\n",
    "plt.ylabel('Statement')\n",
    "plt.xlabel('Time')\n",
    "#plt.title('MJS Cumulative Statement Coverage')\n",
    "plt.axis([0, 3600, 0, 100])\n",
    "plt.legend()\n",
    "zoom(plt, 'mjs-s')"
   ]
  },
  {
   "cell_type": "code",
   "execution_count": 152,
   "metadata": {},
   "outputs": [
    {
     "data": {
      "image/png": "[encoded data removed]",
      "text/plain": [
       "<Figure size 432x288 with 1 Axes>"
      ]
     },
     "metadata": {
      "needs_background": "light"
     },
     "output_type": "display_data"
    }
   ],
   "source": [
    "plt.plot(bmjs_time, bmjs_branch, label='bFuzzer')\n",
    "plt.plot(pmjs_time, pmjs_branch, label='pFuzzer')\n",
    "plt.ylabel('Branch')\n",
    "plt.xlabel('Time')\n",
    "#plt.title('MJS Cumulative Branch Coverage')\n",
    "plt.axis([0, 3600, 0, 100])\n",
    "plt.legend()\n",
    "zoom(plt, 'mjs-b')"
   ]
  },
  {
   "cell_type": "markdown",
   "metadata": {},
   "source": [
    "### CJSON"
   ]
  },
  {
   "cell_type": "code",
   "execution_count": 154,
   "metadata": {},
   "outputs": [
    {
     "name": "stdout",
     "output_type": "stream",
     "text": [
      "3600  line: 82.86 branch:  61.11\n"
     ]
    }
   ],
   "source": [
    "bcjson_outputs, bcjson_time, bcjson_line, bcjson_branch = read_cov_data('data/bfuzzer_cjson.json')"
   ]
  },
  {
   "cell_type": "code",
   "execution_count": 155,
   "metadata": {},
   "outputs": [
    {
     "name": "stdout",
     "output_type": "stream",
     "text": [
      "Total:  2956\n",
      "Unique:  2222\n",
      "MaxLen:  431\n",
      "MinLen:  5\n",
      "Mean:  14.342484248424842\n"
     ]
    }
   ],
   "source": [
    "stats(bcjson_outputs)"
   ]
  },
  {
   "cell_type": "code",
   "execution_count": 156,
   "metadata": {},
   "outputs": [
    {
     "name": "stdout",
     "output_type": "stream",
     "text": [
      "3600  line: 82.86 branch:  61.11\n"
     ]
    }
   ],
   "source": [
    "pcjson_outputs, pcjson_time, pcjson_line, pcjson_branch = read_cov_data('data/pfuzzer_cjson.json')"
   ]
  },
  {
   "cell_type": "code",
   "execution_count": 157,
   "metadata": {},
   "outputs": [
    {
     "name": "stdout",
     "output_type": "stream",
     "text": [
      "Total:  13\n",
      "Unique:  13\n",
      "MaxLen:  12\n",
      "MinLen:  4\n",
      "Mean:  7.615384615384615\n"
     ]
    }
   ],
   "source": [
    "stats(pcjson_outputs)"
   ]
  },
  {
   "cell_type": "code",
   "execution_count": 158,
   "metadata": {},
   "outputs": [
    {
     "data": {
      "image/png": "[encoded data removed]",
      "text/plain": [
       "<Figure size 432x288 with 1 Axes>"
      ]
     },
     "metadata": {
      "needs_background": "light"
     },
     "output_type": "display_data"
    }
   ],
   "source": [
    "plt.plot(bcjson_time, bcjson_line, label='bFuzzer')\n",
    "plt.plot(pcjson_time, pcjson_line, label='pFuzzer')\n",
    "plt.ylabel('Statement')\n",
    "plt.xlabel('Time')\n",
    "#plt.title('CJSON Cumulative Statement Coverage')\n",
    "plt.axis([0, 3600, 0, 100])\n",
    "plt.legend()\n",
    "zoom(plt, 'cjson-s')"
   ]
  },
  {
   "cell_type": "code",
   "execution_count": 159,
   "metadata": {},
   "outputs": [
    {
     "data": {
      "image/png": "[encoded data removed]",
      "text/plain": [
       "<Figure size 432x288 with 1 Axes>"
      ]
     },
     "metadata": {
      "needs_background": "light"
     },
     "output_type": "display_data"
    }
   ],
   "source": [
    "plt.plot(bcjson_time, bcjson_branch, label='bFuzzer')\n",
    "plt.plot(pcjson_time, pcjson_branch, label='pFuzzer')\n",
    "plt.ylabel('Branch')\n",
    "plt.xlabel('Time')\n",
    "#plt.title('CJSON Cumulative Branch Coverage')\n",
    "plt.axis([0, 3600, 0, 100]) \n",
    "plt.legend()\n",
    "zoom(plt, 'cjson-b')"
   ]
  },
  {
   "cell_type": "code",
   "execution_count": 174,
   "metadata": {},
   "outputs": [],
   "source": [
    "def my_stats(lst_):\n",
    "    # remove last\n",
    "    assert lst_[-1] is None\n",
    "    lst = lst_[0:-1]\n",
    "    uniql = list({str(l) for l in lst})\n",
    "    uniq_valid = len(uniql)\n",
    "    max_len = max([len(l) for l in uniql])\n",
    "    mean_len = statistics.mean([len(l) for l in uniql])\n",
    "    return (uniq_valid, max_len, mean_len)"
   ]
  },
  {
   "cell_type": "code",
   "execution_count": 187,
   "metadata": {},
   "outputs": [],
   "source": [
    "pvals = []"
   ]
  },
  {
   "cell_type": "code",
   "execution_count": 188,
   "metadata": {},
   "outputs": [],
   "source": [
    "for s, o, l, b in [\n",
    "    ('ini', pini_outputs, pini_line, pini_branch),\n",
    "    ('csv',pcsv_outputs, pcsv_line, pcsv_branch),\n",
    "    ('cjson',pcjson_outputs, pcjson_line, pcjson_branch),\n",
    "    ('tinyc',ptinyc_outputs, ptinyc_line, ptinyc_branch),\n",
    "    ('mjs',pmjs_outputs, pmjs_line, pmjs_branch)\n",
    "]:\n",
    "    v = my_stats(o)\n",
    "    pvals.append((s, *v, l[-1], b[-1]))"
   ]
  },
  {
   "cell_type": "code",
   "execution_count": 189,
   "metadata": {
    "scrolled": true
   },
   "outputs": [
    {
     "data": {
      "text/plain": [
       "[('ini', 6, 5, 4.666666666666667, 75.56, 56.1),\n",
       " ('csv', 9, 14, 6.888888888888889, 67.26, 58.04),\n",
       " ('cjson', 13, 12, 7.615384615384615, 82.86, 61.11),\n",
       " ('tinyc', 3, 16, 11.666666666666666, 88.24, 72.22),\n",
       " ('mjs', 8, 13, 5.5, 20.96, 10.02)]"
      ]
     },
     "execution_count": 189,
     "metadata": {},
     "output_type": "execute_result"
    }
   ],
   "source": [
    "pvals"
   ]
  },
  {
   "cell_type": "code",
   "execution_count": 191,
   "metadata": {},
   "outputs": [],
   "source": [
    "bvals = []"
   ]
  },
  {
   "cell_type": "code",
   "execution_count": 192,
   "metadata": {},
   "outputs": [],
   "source": [
    "for s, o, l, b in [\n",
    "    ('ini', bini_outputs, bini_line, bini_branch),\n",
    "    ('csv',bcsv_outputs, bcsv_line, bcsv_branch),\n",
    "    ('cjson',bcjson_outputs, bcjson_line, bcjson_branch),\n",
    "    ('tinyc',btinyc_outputs, btinyc_line, btinyc_branch),\n",
    "    ('mjs',bmjs_outputs, bmjs_line, bmjs_branch)\n",
    "]:\n",
    "    v = my_stats(o)\n",
    "    bvals.append((s, *v, l[-1], b[-1]))"
   ]
  },
  {
   "cell_type": "code",
   "execution_count": 193,
   "metadata": {},
   "outputs": [
    {
     "data": {
      "text/plain": [
       "[('ini', 3869, 216, 37.26389247867666, 76.3, 59.76),\n",
       " ('csv', 132514, 18, 6.674192915465536, 67.26, 58.04),\n",
       " ('cjson', 2222, 431, 14.342484248424842, 82.86, 61.11),\n",
       " ('tinyc', 8061, 42, 10.640863416449571, 88.24, 72.22),\n",
       " ('mjs', 32052, 959, 8.932827904654935, 32.42, 23.35)]"
      ]
     },
     "execution_count": 193,
     "metadata": {},
     "output_type": "execute_result"
    }
   ],
   "source": [
    "bvals"
   ]
  }
 ],
 "metadata": {
  "kernelspec": {
   "display_name": "Python 3",
   "language": "python",
   "name": "python3"
  },
  "language_info": {
   "codemirror_mode": {
    "name": "ipython",
    "version": 3
   },
   "file_extension": ".py",
   "mimetype": "text/x-python",
   "name": "python",
   "nbconvert_exporter": "python",
   "pygments_lexer": "ipython3",
   "version": "3.6.8"
  },
  "toc": {
   "base_numbering": 1,
   "nav_menu": {},
   "number_sections": true,
   "sideBar": true,
   "skip_h1_title": false,
   "title_cell": "Table of Contents",
   "title_sidebar": "Contents",
   "toc_cell": false,
   "toc_position": {
    "height": "calc(100% - 180px)",
    "left": "10px",
    "top": "150px",
    "width": "333px"
   },
   "toc_section_display": true,
   "toc_window_display": true
  }
 },
 "nbformat": 4,
 "nbformat_minor": 4
}
