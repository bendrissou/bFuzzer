{
 "cells": [
  {
   "cell_type": "markdown",
   "metadata": {},
   "source": [
    "# Prerequisites"
   ]
  },
  {
   "cell_type": "markdown",
   "metadata": {},
   "source": [
    "We start with a few Jupyter magics that let us specify examples inline, that can be turned off if needed for faster execution. Switch `TOP to False` if you do not want examples to complete."
   ]
  },
  {
   "cell_type": "code",
   "execution_count": 1,
   "metadata": {
    "ExecuteTime": {
     "end_time": "2019-11-10T17:56:43.196736Z",
     "start_time": "2019-11-10T17:56:43.190391Z"
    }
   },
   "outputs": [],
   "source": [
    "TOP = __name__ == '__main__'"
   ]
  },
  {
   "cell_type": "markdown",
   "metadata": {},
   "source": [
    "The magics we use are `%%var` and `%top`. The `%%var` lets us specify large strings such as file contents directly without too many escapes. The `%top` helps with examples."
   ]
  },
  {
   "cell_type": "code",
   "execution_count": 2,
   "metadata": {
    "ExecuteTime": {
     "end_time": "2019-11-10T17:56:43.338218Z",
     "start_time": "2019-11-10T17:56:43.308112Z"
    }
   },
   "outputs": [],
   "source": [
    "from IPython.core.magic import  (Magics, magics_class, cell_magic, line_magic, line_cell_magic)\n",
    "class B(dict):\n",
    "    def __getattr__(self, name):\n",
    "        return self.__getitem__(name)\n",
    "@magics_class\n",
    "class MyMagics(Magics):\n",
    "    def __init__(self, shell=None,  **kwargs):\n",
    "        super().__init__(shell=shell, **kwargs)\n",
    "        self._vars = B()\n",
    "        shell.user_ns['VARS'] = self._vars\n",
    "\n",
    "    @cell_magic\n",
    "    def var(self, line, cell):\n",
    "        self._vars[line.strip()] = cell.strip()\n",
    " \n",
    "    @line_cell_magic\n",
    "    def top(self, line, cell=None):\n",
    "        if TOP:\n",
    "            if cell is None:\n",
    "                cell = line\n",
    "            ip = get_ipython()\n",
    "            res = ip.run_cell(cell)\n",
    "\n",
    "get_ipython().register_magics(MyMagics)"
   ]
  },
  {
   "cell_type": "markdown",
   "metadata": {},
   "source": [
    "## Verify System Version"
   ]
  },
  {
   "cell_type": "code",
   "execution_count": 3,
   "metadata": {
    "ExecuteTime": {
     "end_time": "2019-11-10T17:56:43.353505Z",
     "start_time": "2019-11-10T17:56:43.348363Z"
    },
    "tags": [
     "#import_sys"
    ]
   },
   "outputs": [],
   "source": [
    "import sys"
   ]
  },
  {
   "cell_type": "markdown",
   "metadata": {},
   "source": [
    "Parts of the program, especially the subprocess execution using `do()` requires the new flags in `3.7`. I am not sure if the taints will work on anything above."
   ]
  },
  {
   "cell_type": "code",
   "execution_count": 4,
   "metadata": {
    "ExecuteTime": {
     "end_time": "2019-11-10T17:56:43.366649Z",
     "start_time": "2019-11-10T17:56:43.359988Z"
    },
    "tags": [
     "#verifyversion",
     "=>install_fuzzingbook",
     "=>install_dependencies",
     "=>install_dill",
     "=>import_sys"
    ]
   },
   "outputs": [],
   "source": [
    "%top assert sys.version_info[0:2] in [(3, 6)]"
   ]
  },
  {
   "cell_type": "code",
   "execution_count": 5,
   "metadata": {
    "ExecuteTime": {
     "end_time": "2019-11-10T17:56:43.372687Z",
     "start_time": "2019-11-10T17:56:43.369688Z"
    }
   },
   "outputs": [],
   "source": [
    "import subprocess\n",
    "from subprocess import run"
   ]
  },
  {
   "cell_type": "code",
   "execution_count": 6,
   "metadata": {
    "ExecuteTime": {
     "end_time": "2019-11-10T17:56:43.378359Z",
     "start_time": "2019-11-10T17:56:43.375110Z"
    }
   },
   "outputs": [],
   "source": [
    "import os\n",
    "import json"
   ]
  },
  {
   "cell_type": "markdown",
   "metadata": {},
   "source": [
    "We keep a log of all system commands executed for easier debugging at `./build/do.log` when debug is enabled."
   ]
  },
  {
   "cell_type": "code",
   "execution_count": 7,
   "metadata": {},
   "outputs": [],
   "source": [
    "DEBUG = False"
   ]
  },
  {
   "cell_type": "code",
   "execution_count": 8,
   "metadata": {
    "ExecuteTime": {
     "end_time": "2019-11-10T17:56:43.385464Z",
     "start_time": "2019-11-10T17:56:43.380925Z"
    }
   },
   "outputs": [],
   "source": [
    "class O:\n",
    "    def __init__(self, **keys): self.__dict__.update(keys)\n",
    "    def __repr__(self): return str(self.__dict__)"
   ]
  },
  {
   "cell_type": "code",
   "execution_count": 9,
   "metadata": {},
   "outputs": [],
   "source": [
    "CMD_TIMEOUT=60*60*24"
   ]
  },
  {
   "cell_type": "code",
   "execution_count": 10,
   "metadata": {},
   "outputs": [],
   "source": [
    "def do(command, env=None, shell=False, log=False, inputv=None, timeout=CMD_TIMEOUT, **args):\n",
    "    result = None\n",
    "    if inputv:\n",
    "        result = subprocess.Popen(command,\n",
    "            stdin = subprocess.PIPE,\n",
    "            stdout = subprocess.PIPE,\n",
    "            stderr = subprocess.STDOUT,\n",
    "            shell = shell,\n",
    "            env=dict(os.environ, **({} if env is None else env))\n",
    "        )\n",
    "        result.stdin.write(inputv)\n",
    "        stdout, stderr = result.communicate(timeout=timeout)\n",
    "    else:\n",
    "        result = subprocess.Popen(command,\n",
    "            stdout = subprocess.PIPE,\n",
    "            stderr = subprocess.STDOUT,\n",
    "            shell = shell,\n",
    "            env=dict(os.environ, **({} if env is None else env))\n",
    "        )\n",
    "        stdout, stderr = result.communicate(timeout=timeout)\n",
    "    if log:\n",
    "         with open('build/do.log', 'a+') as f:\n",
    "            print(json.dumps({'cmd':command,\n",
    "                              'env':env,\n",
    "                              'exitcode':result.returncode}), env,\n",
    "                  flush=True, file=f)\n",
    "    stdout = '' if stdout is None else stdout.decode()\n",
    "    stderr = '' if stderr is None else stderr.decode()\n",
    "    result.kill()\n",
    "    return O(returncode=result.returncode, stdout=stdout, stderr=stderr)"
   ]
  },
  {
   "cell_type": "markdown",
   "metadata": {},
   "source": [
    "Note that this notebook was tested on `Ubuntu 18.04.4 LTS`. In particular, I do not know if everything will work on `Windows`."
   ]
  },
  {
   "cell_type": "code",
   "execution_count": 13,
   "metadata": {
    "ExecuteTime": {
     "end_time": "2019-11-10T17:56:43.450107Z",
     "start_time": "2019-11-10T17:56:43.444212Z"
    }
   },
   "outputs": [],
   "source": [
    "import shutil"
   ]
  },
  {
   "cell_type": "code",
   "execution_count": 14,
   "metadata": {
    "ExecuteTime": {
     "end_time": "2019-11-10T17:56:43.544584Z",
     "start_time": "2019-11-10T17:56:43.453225Z"
    }
   },
   "outputs": [
    {
     "name": "stdout",
     "output_type": "stream",
     "text": [
      "Description:\tUbuntu 18.04.3 LTS\n",
      "\n"
     ]
    }
   ],
   "source": [
    "%%top\n",
    "if shutil.which('lsb_release'):\n",
    "    res = do(['lsb_release', '-d']).stdout\n",
    "elif shutil.which('sw_vers'):\n",
    "    res = do(['sw_vers']).stdout\n",
    "else:\n",
    "    assert False\n",
    "print(res)"
   ]
  },
  {
   "cell_type": "code",
   "execution_count": 15,
   "metadata": {
    "ExecuteTime": {
     "end_time": "2019-11-10T17:56:44.509651Z",
     "start_time": "2019-11-10T17:56:43.547780Z"
    }
   },
   "outputs": [
    {
     "name": "stdout",
     "output_type": "stream",
     "text": [
      "jupyter core     : 4.6.3\n",
      "jupyter-notebook : 6.0.3\n",
      "qtconsole        : 4.7.4\n",
      "ipython          : 7.15.0\n",
      "ipykernel        : 5.3.0\n",
      "jupyter client   : 6.1.3\n",
      "jupyter lab      : not installed\n",
      "nbconvert        : 5.6.1\n",
      "ipywidgets       : 7.5.1\n",
      "nbformat         : 5.0.6\n",
      "traitlets        : 4.3.3\n",
      "\n"
     ]
    }
   ],
   "source": [
    "%top print(do(['jupyter', '--version']).stdout)"
   ]
  },
  {
   "cell_type": "markdown",
   "metadata": {},
   "source": [
    "## Install Prerequisites"
   ]
  },
  {
   "cell_type": "markdown",
   "metadata": {},
   "source": [
    "We want to avoid reinstalling things on each run. So, we define a variable `INSTALL` that should be made true for installations to take place. Use it only during the first run."
   ]
  },
  {
   "cell_type": "code",
   "execution_count": 1,
   "metadata": {},
   "outputs": [],
   "source": [
    "INSTALL = True"
   ]
  },
  {
   "cell_type": "code",
   "execution_count": 17,
   "metadata": {},
   "outputs": [],
   "source": [
    "def install(fn):\n",
    "    if INSTALL:\n",
    "        return fn()"
   ]
  },
  {
   "cell_type": "markdown",
   "metadata": {},
   "source": [
    "Our code is based on the utilities provided by the [Fuzzingbook](http://fuzzingbook.org). Note that the measurements on time and precision in paper were based on Fuzzingbook `0.0.7`. During the development, we found a few bugs in Autogram, which we communicated back, which resulted in a new version of Fuzzingbook `0.8.0`.\n",
    "\n",
    "The fixed *Autogram* implementation of the *Fuzzingbook* has better precision rates for *Autogram*, and timing for grammar generation. However, these numbers still fall short of *Mimid* for most grammars. Further, the grammars generated by *Autogram* are still enumerative. That is, rather than producing a context free grammar, it simply appends input strings as alternates to the `<START>` nonterminal. This again results in bad recall numbers as before. Hence, it does not change our main points. During the remainder of this notebook, we use the `0.8.0` version of the Fuzzingbook."
   ]
  },
  {
   "cell_type": "markdown",
   "metadata": {},
   "source": [
    "First we define `pip_install()`, a helper to silently install required dependencies."
   ]
  },
  {
   "cell_type": "code",
   "execution_count": 18,
   "metadata": {
    "ExecuteTime": {
     "end_time": "2019-11-10T17:56:44.519751Z",
     "start_time": "2019-11-10T17:56:44.513118Z"
    }
   },
   "outputs": [],
   "source": [
    "def pip_install(v):\n",
    "    return do(['pip', 'install', '-qqq', *v.split(' ')]).returncode"
   ]
  },
  {
   "cell_type": "markdown",
   "metadata": {},
   "source": [
    "Our external dependencies are as follows."
   ]
  },
  {
   "cell_type": "code",
   "execution_count": 26,
   "metadata": {
    "ExecuteTime": {
     "end_time": "2019-11-10T17:56:46.162958Z",
     "start_time": "2019-11-10T17:56:45.406415Z"
    },
    "tags": [
     "#install_dependencies"
    ]
   },
   "outputs": [],
   "source": [
    "%top install(lambda: pip_install('astor graphviz scipy'))"
   ]
  },
  {
   "cell_type": "markdown",
   "metadata": {},
   "source": [
    "**IMPORTANT:** Restart the jupyter server after installation of dependencies and extensions."
   ]
  },
  {
   "cell_type": "markdown",
   "metadata": {},
   "source": [
    "### Recommended Extensions"
   ]
  },
  {
   "cell_type": "markdown",
   "metadata": {},
   "source": [
    "We recommend the following jupyter notebook extensions:"
   ]
  },
  {
   "cell_type": "code",
   "execution_count": 27,
   "metadata": {
    "ExecuteTime": {
     "end_time": "2019-11-10T17:56:47.031087Z",
     "start_time": "2019-11-10T17:56:46.166282Z"
    }
   },
   "outputs": [],
   "source": [
    "%top install(lambda: pip_install('jupyter_contrib_nbextensions jupyter_nbextensions_configurator'))"
   ]
  },
  {
   "cell_type": "code",
   "execution_count": 28,
   "metadata": {
    "ExecuteTime": {
     "end_time": "2019-11-10T17:56:48.674155Z",
     "start_time": "2019-11-10T17:56:47.034337Z"
    }
   },
   "outputs": [],
   "source": [
    "%top install(lambda: do(['jupyter','contrib','nbextension','install', '--sys-prefix']).returncode)"
   ]
  },
  {
   "cell_type": "code",
   "execution_count": 29,
   "metadata": {
    "ExecuteTime": {
     "end_time": "2019-11-10T17:56:48.686123Z",
     "start_time": "2019-11-10T17:56:48.681777Z"
    }
   },
   "outputs": [],
   "source": [
    "def nb_enable(v): return do(['jupyter','nbextension','enable',v]).returncode"
   ]
  },
  {
   "cell_type": "code",
   "execution_count": 30,
   "metadata": {
    "ExecuteTime": {
     "end_time": "2019-11-10T17:56:49.148987Z",
     "start_time": "2019-11-10T17:56:48.691076Z"
    }
   },
   "outputs": [],
   "source": [
    "%top install(lambda: do(['jupyter','nbextensions_configurator','enable']).returncode)"
   ]
  },
  {
   "cell_type": "markdown",
   "metadata": {},
   "source": [
    "#### Table of contents\n",
    "\n",
    "Please install this extension. The navigation in the notebook is rather hard without this installed."
   ]
  },
  {
   "cell_type": "code",
   "execution_count": 31,
   "metadata": {
    "ExecuteTime": {
     "end_time": "2019-11-10T17:56:49.419567Z",
     "start_time": "2019-11-10T17:56:49.152161Z"
    }
   },
   "outputs": [],
   "source": [
    "%top install(lambda: nb_enable('toc2/main'))"
   ]
  },
  {
   "cell_type": "markdown",
   "metadata": {},
   "source": [
    "#### Collapsible headings\n",
    "\n",
    "Again, do install this extension. This will let you fold away those sections that you do not have an immediate interest in."
   ]
  },
  {
   "cell_type": "code",
   "execution_count": 32,
   "metadata": {
    "ExecuteTime": {
     "end_time": "2019-11-10T17:56:49.694288Z",
     "start_time": "2019-11-10T17:56:49.423125Z"
    }
   },
   "outputs": [],
   "source": [
    "%top install(lambda: nb_enable('collapsible_headings/main'))"
   ]
  },
  {
   "cell_type": "markdown",
   "metadata": {},
   "source": [
    "#### Code folding\n",
    "Very helpful for hiding away source contents of libraries that are not for grammar recovery."
   ]
  },
  {
   "cell_type": "code",
   "execution_count": 33,
   "metadata": {
    "ExecuteTime": {
     "end_time": "2019-11-10T17:56:50.282941Z",
     "start_time": "2019-11-10T17:56:49.974436Z"
    }
   },
   "outputs": [],
   "source": [
    "%top install(lambda: nb_enable('codefolding/main'))"
   ]
  }
 ],
 "metadata": {
  "kernelspec": {
   "display_name": "Python 3",
   "language": "python",
   "name": "python3"
  },
  "language_info": {
   "codemirror_mode": {
    "name": "ipython",
    "version": 3
   },
   "file_extension": ".py",
   "mimetype": "text/x-python",
   "name": "python",
   "nbconvert_exporter": "python",
   "pygments_lexer": "ipython3",
   "version": "3.6.8"
  },
  "toc": {
   "base_numbering": 1,
   "nav_menu": {},
   "number_sections": true,
   "sideBar": true,
   "skip_h1_title": false,
   "title_cell": "Table of Contents",
   "title_sidebar": "Contents",
   "toc_cell": false,
   "toc_position": {
    "height": "calc(100% - 180px)",
    "left": "10px",
    "top": "150px",
    "width": "394.15px"
   },
   "toc_section_display": true,
   "toc_window_display": true
  },
  "varInspector": {
   "cols": {
    "lenName": 16,
    "lenType": 16,
    "lenVar": 40
   },
   "kernels_config": {
    "python": {
     "delete_cmd_postfix": "",
     "delete_cmd_prefix": "del ",
     "library": "var_list.py",
     "varRefreshCmd": "print(var_dic_list())"
    },
    "r": {
     "delete_cmd_postfix": ") ",
     "delete_cmd_prefix": "rm(",
     "library": "var_list.r",
     "varRefreshCmd": "cat(var_dic_list()) "
    }
   },
   "types_to_exclude": [
    "module",
    "function",
    "builtin_function_or_method",
    "instance",
    "_Feature"
   ],
   "window_display": false
  }
 },
 "nbformat": 4,
 "nbformat_minor": 2
}
